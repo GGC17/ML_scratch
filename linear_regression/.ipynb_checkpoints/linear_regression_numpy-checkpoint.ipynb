{
 "cells": [
  {
   "cell_type": "markdown",
   "id": "adult-roulette",
   "metadata": {},
   "source": [
    "### Linear Regression from scratch"
   ]
  },
  {
   "cell_type": "code",
   "execution_count": 1,
   "id": "together-decrease",
   "metadata": {
    "ExecuteTime": {
     "end_time": "2021-07-22T19:24:15.993066Z",
     "start_time": "2021-07-22T19:24:15.555331Z"
    }
   },
   "outputs": [],
   "source": [
    "import numpy as np\n",
    "import pandas as pd\n",
    "import matplotlib.pyplot as plt"
   ]
  },
  {
   "cell_type": "code",
   "execution_count": 2,
   "id": "fatal-novelty",
   "metadata": {
    "ExecuteTime": {
     "end_time": "2021-07-22T19:24:17.026724Z",
     "start_time": "2021-07-22T19:24:15.995505Z"
    }
   },
   "outputs": [
    {
     "data": {
      "text/html": [
       "<div>\n",
       "<style scoped>\n",
       "    .dataframe tbody tr th:only-of-type {\n",
       "        vertical-align: middle;\n",
       "    }\n",
       "\n",
       "    .dataframe tbody tr th {\n",
       "        vertical-align: top;\n",
       "    }\n",
       "\n",
       "    .dataframe thead th {\n",
       "        text-align: right;\n",
       "    }\n",
       "</style>\n",
       "<table border=\"1\" class=\"dataframe\">\n",
       "  <thead>\n",
       "    <tr style=\"text-align: right;\">\n",
       "      <th></th>\n",
       "      <th>AT</th>\n",
       "      <th>V</th>\n",
       "      <th>AP</th>\n",
       "      <th>RH</th>\n",
       "      <th>PE</th>\n",
       "    </tr>\n",
       "  </thead>\n",
       "  <tbody>\n",
       "    <tr>\n",
       "      <th>0</th>\n",
       "      <td>14.96</td>\n",
       "      <td>41.76</td>\n",
       "      <td>1024.07</td>\n",
       "      <td>73.17</td>\n",
       "      <td>463.26</td>\n",
       "    </tr>\n",
       "    <tr>\n",
       "      <th>1</th>\n",
       "      <td>25.18</td>\n",
       "      <td>62.96</td>\n",
       "      <td>1020.04</td>\n",
       "      <td>59.08</td>\n",
       "      <td>444.37</td>\n",
       "    </tr>\n",
       "    <tr>\n",
       "      <th>2</th>\n",
       "      <td>5.11</td>\n",
       "      <td>39.40</td>\n",
       "      <td>1012.16</td>\n",
       "      <td>92.14</td>\n",
       "      <td>488.56</td>\n",
       "    </tr>\n",
       "    <tr>\n",
       "      <th>3</th>\n",
       "      <td>20.86</td>\n",
       "      <td>57.32</td>\n",
       "      <td>1010.24</td>\n",
       "      <td>76.64</td>\n",
       "      <td>446.48</td>\n",
       "    </tr>\n",
       "    <tr>\n",
       "      <th>4</th>\n",
       "      <td>10.82</td>\n",
       "      <td>37.50</td>\n",
       "      <td>1009.23</td>\n",
       "      <td>96.62</td>\n",
       "      <td>473.90</td>\n",
       "    </tr>\n",
       "  </tbody>\n",
       "</table>\n",
       "</div>"
      ],
      "text/plain": [
       "      AT      V       AP     RH      PE\n",
       "0  14.96  41.76  1024.07  73.17  463.26\n",
       "1  25.18  62.96  1020.04  59.08  444.37\n",
       "2   5.11  39.40  1012.16  92.14  488.56\n",
       "3  20.86  57.32  1010.24  76.64  446.48\n",
       "4  10.82  37.50  1009.23  96.62  473.90"
      ]
     },
     "execution_count": 2,
     "metadata": {},
     "output_type": "execute_result"
    }
   ],
   "source": [
    "data = pd.read_excel('energy.xlsx')\n",
    "data.head(5)"
   ]
  },
  {
   "cell_type": "code",
   "execution_count": 3,
   "id": "amber-passage",
   "metadata": {
    "ExecuteTime": {
     "end_time": "2021-07-22T19:24:17.034863Z",
     "start_time": "2021-07-22T19:24:17.029114Z"
    }
   },
   "outputs": [
    {
     "data": {
      "text/plain": [
       "(9568, 5)"
      ]
     },
     "execution_count": 3,
     "metadata": {},
     "output_type": "execute_result"
    }
   ],
   "source": [
    "data.shape"
   ]
  },
  {
   "cell_type": "code",
   "execution_count": 4,
   "id": "living-precipitation",
   "metadata": {
    "ExecuteTime": {
     "end_time": "2021-07-22T19:24:17.052998Z",
     "start_time": "2021-07-22T19:24:17.037359Z"
    }
   },
   "outputs": [],
   "source": [
    "# Shuffle Data\n",
    "data = data.sample(frac=1) "
   ]
  },
  {
   "cell_type": "code",
   "execution_count": 5,
   "id": "biological-lexington",
   "metadata": {
    "ExecuteTime": {
     "end_time": "2021-07-22T19:24:17.067597Z",
     "start_time": "2021-07-22T19:24:17.057363Z"
    }
   },
   "outputs": [],
   "source": [
    "# Functions\n",
    "\n",
    "def feat_scaling(X):\n",
    "    \n",
    "    mean = np.mean(X, axis=0)\n",
    "    sigma = np.std(X, axis=0)\n",
    "    \n",
    "    X_scale = (X-mean) / sigma\n",
    "    \n",
    "    return X_scale\n",
    "\n",
    "def cost_function(X, y, w, b):\n",
    "    \n",
    "    J = (1/2*len(y))*np.sum(((X.dot(w) +b)-y)**2) \n",
    "    \n",
    "    return J\n",
    "\n",
    "def gradient_descent(X, y, w, b, alpha, epochs):\n",
    "    \n",
    "    cost_history = []\n",
    "    m = len(y)\n",
    "    \n",
    "    for epoch in range(epochs):\n",
    "        \n",
    "        h = X.dot(w) + b \n",
    "        loss = h - y\n",
    "        \n",
    "        dw = X.T.dot(loss) / m\n",
    "        db = np.sum(loss) / m\n",
    "        \n",
    "        w = w - alpha * dw\n",
    "        b = b - alpha * db\n",
    "        \n",
    "        cost = cost_function(X, y, w, b)\n",
    "        cost_history.append(cost)\n",
    "        \n",
    "        if (epoch % 100 == 0):\n",
    "            print(\"Epoch: \", epoch)\n",
    "            print(\"Cost: \", cost)\n",
    "        \n",
    "    return w, b, cost_history\n",
    "\n",
    "def predict(X, w, b):\n",
    "    \n",
    "    predictions = X.dot(w) + b\n",
    "    \n",
    "    return predictions\n",
    "\n",
    "def r2(predictions, y):\n",
    "    \n",
    "    ssr = np.sum((predictions - y)**2)\n",
    "    sst = np.sum((y-y.mean())**2)\n",
    "    \n",
    "    r2 = 1 - (ssr/sst)\n",
    "    \n",
    "    return r2"
   ]
  },
  {
   "cell_type": "code",
   "execution_count": 6,
   "id": "periodic-insulin",
   "metadata": {
    "ExecuteTime": {
     "end_time": "2021-07-22T19:24:17.085360Z",
     "start_time": "2021-07-22T19:24:17.070545Z"
    }
   },
   "outputs": [],
   "source": [
    "data = feat_scaling(data)"
   ]
  },
  {
   "cell_type": "code",
   "execution_count": 7,
   "id": "limiting-chambers",
   "metadata": {
    "ExecuteTime": {
     "end_time": "2021-07-22T19:24:17.092195Z",
     "start_time": "2021-07-22T19:24:17.087349Z"
    }
   },
   "outputs": [],
   "source": [
    "# Slice\n",
    "data_train = data.iloc[0:7654, :]\n",
    "data_test = data.iloc[7654:, :]"
   ]
  },
  {
   "cell_type": "code",
   "execution_count": 8,
   "id": "guided-provincial",
   "metadata": {
    "ExecuteTime": {
     "end_time": "2021-07-22T19:24:17.102051Z",
     "start_time": "2021-07-22T19:24:17.096683Z"
    }
   },
   "outputs": [],
   "source": [
    "# Split\n",
    "X_train = data_train.iloc[:, :-1]\n",
    "X_test = data_test.iloc[:, :-1]\n",
    "y_train = data_train.iloc[:, -1]\n",
    "y_test = data_test.iloc[:, -1]"
   ]
  },
  {
   "cell_type": "code",
   "execution_count": 9,
   "id": "entire-accent",
   "metadata": {
    "ExecuteTime": {
     "end_time": "2021-07-22T19:24:17.112977Z",
     "start_time": "2021-07-22T19:24:17.104091Z"
    }
   },
   "outputs": [
    {
     "data": {
      "text/plain": [
       "((7654, 4), (7654,))"
      ]
     },
     "execution_count": 9,
     "metadata": {},
     "output_type": "execute_result"
    }
   ],
   "source": [
    "X_train.shape, y_train.shape"
   ]
  },
  {
   "cell_type": "code",
   "execution_count": 10,
   "id": "advised-career",
   "metadata": {
    "ExecuteTime": {
     "end_time": "2021-07-22T19:24:17.119097Z",
     "start_time": "2021-07-22T19:24:17.114873Z"
    }
   },
   "outputs": [],
   "source": [
    "# Initialization\n",
    "w = np.zeros(X_train.shape[1])\n",
    "b = 0\n",
    "alpha = 0.01\n",
    "epochs = 5000"
   ]
  },
  {
   "cell_type": "code",
   "execution_count": 11,
   "id": "familiar-studio",
   "metadata": {
    "ExecuteTime": {
     "end_time": "2021-07-22T19:24:32.140055Z",
     "start_time": "2021-07-22T19:24:17.120777Z"
    }
   },
   "outputs": [
    {
     "name": "stdout",
     "output_type": "stream",
     "text": [
      "Epoch:  0\n",
      "Cost:  28018556.575428296\n",
      "Epoch:  100\n",
      "Cost:  3637562.6204070677\n",
      "Epoch:  200\n",
      "Cost:  2972071.0173588246\n",
      "Epoch:  300\n",
      "Cost:  2733270.1911222455\n",
      "Epoch:  400\n",
      "Cost:  2592872.313591299\n",
      "Epoch:  500\n",
      "Cost:  2495389.9849875704\n",
      "Epoch:  600\n",
      "Cost:  2421395.854494397\n",
      "Epoch:  700\n",
      "Cost:  2362845.447954119\n",
      "Epoch:  800\n",
      "Cost:  2315680.066288361\n",
      "Epoch:  900\n",
      "Cost:  2277403.6123127555\n",
      "Epoch:  1000\n",
      "Cost:  2246246.8824027576\n",
      "Epoch:  1100\n",
      "Cost:  2220854.460845566\n",
      "Epoch:  1200\n",
      "Cost:  2200149.630654107\n",
      "Epoch:  1300\n",
      "Cost:  2183263.650690183\n",
      "Epoch:  1400\n",
      "Cost:  2169491.0472161574\n",
      "Epoch:  1500\n",
      "Cost:  2158257.41934565\n",
      "Epoch:  1600\n",
      "Cost:  2149094.586451407\n",
      "Epoch:  1700\n",
      "Cost:  2141620.7804567995\n",
      "Epoch:  1800\n",
      "Cost:  2135524.6421440733\n",
      "Epoch:  1900\n",
      "Cost:  2130552.2178158043\n",
      "Epoch:  2000\n",
      "Cost:  2126496.3694822253\n",
      "Epoch:  2100\n",
      "Cost:  2123188.142556631\n",
      "Epoch:  2200\n",
      "Cost:  2120489.726560512\n",
      "Epoch:  2300\n",
      "Cost:  2118288.7139875484\n",
      "Epoch:  2400\n",
      "Cost:  2116493.4176363414\n",
      "Epoch:  2500\n",
      "Cost:  2115029.0511713405\n",
      "Epoch:  2600\n",
      "Cost:  2113834.613748422\n",
      "Epoch:  2700\n",
      "Cost:  2112860.348909496\n",
      "Epoch:  2800\n",
      "Cost:  2112065.671885492\n",
      "Epoch:  2900\n",
      "Cost:  2111417.478963698\n",
      "Epoch:  3000\n",
      "Cost:  2110888.768492412\n",
      "Epoch:  3100\n",
      "Cost:  2110457.5160781182\n",
      "Epoch:  3200\n",
      "Cost:  2110105.7571194144\n",
      "Epoch:  3300\n",
      "Cost:  2109818.8384589553\n",
      "Epoch:  3400\n",
      "Cost:  2109584.8079796103\n",
      "Epoch:  3500\n",
      "Cost:  2109393.916717344\n",
      "Epoch:  3600\n",
      "Cost:  2109238.2127504437\n",
      "Epoch:  3700\n",
      "Cost:  2109111.209947798\n",
      "Epoch:  3800\n",
      "Cost:  2109007.617777341\n",
      "Epoch:  3900\n",
      "Cost:  2108923.1209193477\n",
      "Epoch:  4000\n",
      "Cost:  2108854.199503962\n",
      "Epoch:  4100\n",
      "Cost:  2108797.982484636\n",
      "Epoch:  4200\n",
      "Cost:  2108752.1280394797\n",
      "Epoch:  4300\n",
      "Cost:  2108714.726018423\n",
      "Epoch:  4400\n",
      "Cost:  2108684.21837245\n",
      "Epoch:  4500\n",
      "Cost:  2108659.3342502424\n",
      "Epoch:  4600\n",
      "Cost:  2108639.0370585597\n",
      "Epoch:  4700\n",
      "Cost:  2108622.481281075\n",
      "Epoch:  4800\n",
      "Cost:  2108608.977256852\n",
      "Epoch:  4900\n",
      "Cost:  2108597.9624512736\n"
     ]
    }
   ],
   "source": [
    "w, b , cost_history = gradient_descent(X_train, y_train, w, b, alpha, epochs)"
   ]
  },
  {
   "cell_type": "code",
   "execution_count": 12,
   "id": "adapted-kernel",
   "metadata": {
    "ExecuteTime": {
     "end_time": "2021-07-22T19:24:32.336535Z",
     "start_time": "2021-07-22T19:24:32.149509Z"
    }
   },
   "outputs": [
    {
     "data": {
      "text/plain": [
       "[<matplotlib.lines.Line2D at 0x7f2846faec50>]"
      ]
     },
     "execution_count": 12,
     "metadata": {},
     "output_type": "execute_result"
    },
    {
     "data": {
      "image/png": "[encoded data removed]",
      "text/plain": [
       "<Figure size 432x288 with 1 Axes>"
      ]
     },
     "metadata": {
      "needs_background": "light"
     },
     "output_type": "display_data"
    }
   ],
   "source": [
    "# Plot Cost\n",
    "plt.plot(cost_history)"
   ]
  },
  {
   "cell_type": "code",
   "execution_count": 13,
   "id": "designed-windows",
   "metadata": {
    "ExecuteTime": {
     "end_time": "2021-07-22T19:24:32.343210Z",
     "start_time": "2021-07-22T19:24:32.338691Z"
    }
   },
   "outputs": [],
   "source": [
    "y_pred = predict(X_test, w, b)"
   ]
  },
  {
   "cell_type": "code",
   "execution_count": 14,
   "id": "objective-charge",
   "metadata": {
    "ExecuteTime": {
     "end_time": "2021-07-22T19:24:32.373654Z",
     "start_time": "2021-07-22T19:24:32.345221Z"
    }
   },
   "outputs": [
    {
     "name": "stdout",
     "output_type": "stream",
     "text": [
      "0.9319853607790877\n"
     ]
    }
   ],
   "source": [
    "r2 = r2(y_pred, y_test)\n",
    "print(r2)"
   ]
  },
  {
   "cell_type": "code",
   "execution_count": null,
   "id": "imported-northern",
   "metadata": {},
   "outputs": [],
   "source": [
    "# The r2 score is better than Sklearn, but the feature scaling done here leads to data leakage"
   ]
  }
 ],
 "metadata": {
  "kernelspec": {
   "display_name": "Python 3",
   "language": "python",
   "name": "python3"
  },
  "language_info": {
   "codemirror_mode": {
    "name": "ipython",
    "version": 3
   },
   "file_extension": ".py",
   "mimetype": "text/x-python",
   "name": "python",
   "nbconvert_exporter": "python",
   "pygments_lexer": "ipython3",
   "version": "3.7.2"
  }
 },
 "nbformat": 4,
 "nbformat_minor": 5
}
