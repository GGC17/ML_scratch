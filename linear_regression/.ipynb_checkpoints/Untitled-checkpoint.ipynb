{
 "cells": [
  {
   "cell_type": "markdown",
   "id": "adult-roulette",
   "metadata": {},
   "source": [
    "### Linear Regression from scratch"
   ]
  },
  {
   "cell_type": "code",
   "execution_count": 10,
   "id": "together-decrease",
   "metadata": {
    "ExecuteTime": {
     "end_time": "2021-07-21T20:55:58.897833Z",
     "start_time": "2021-07-21T20:55:58.894690Z"
    }
   },
   "outputs": [],
   "source": [
    "import numpy as np\n",
    "import pandas as pd"
   ]
  },
  {
   "cell_type": "code",
   "execution_count": 11,
   "id": "fatal-novelty",
   "metadata": {
    "ExecuteTime": {
     "end_time": "2021-07-21T20:55:59.782884Z",
     "start_time": "2021-07-21T20:55:58.900366Z"
    }
   },
   "outputs": [
    {
     "data": {
      "text/html": [
       "<div>\n",
       "<style scoped>\n",
       "    .dataframe tbody tr th:only-of-type {\n",
       "        vertical-align: middle;\n",
       "    }\n",
       "\n",
       "    .dataframe tbody tr th {\n",
       "        vertical-align: top;\n",
       "    }\n",
       "\n",
       "    .dataframe thead th {\n",
       "        text-align: right;\n",
       "    }\n",
       "</style>\n",
       "<table border=\"1\" class=\"dataframe\">\n",
       "  <thead>\n",
       "    <tr style=\"text-align: right;\">\n",
       "      <th></th>\n",
       "      <th>AT</th>\n",
       "      <th>V</th>\n",
       "      <th>AP</th>\n",
       "      <th>RH</th>\n",
       "      <th>PE</th>\n",
       "    </tr>\n",
       "  </thead>\n",
       "  <tbody>\n",
       "    <tr>\n",
       "      <th>0</th>\n",
       "      <td>14.96</td>\n",
       "      <td>41.76</td>\n",
       "      <td>1024.07</td>\n",
       "      <td>73.17</td>\n",
       "      <td>463.26</td>\n",
       "    </tr>\n",
       "    <tr>\n",
       "      <th>1</th>\n",
       "      <td>25.18</td>\n",
       "      <td>62.96</td>\n",
       "      <td>1020.04</td>\n",
       "      <td>59.08</td>\n",
       "      <td>444.37</td>\n",
       "    </tr>\n",
       "    <tr>\n",
       "      <th>2</th>\n",
       "      <td>5.11</td>\n",
       "      <td>39.40</td>\n",
       "      <td>1012.16</td>\n",
       "      <td>92.14</td>\n",
       "      <td>488.56</td>\n",
       "    </tr>\n",
       "    <tr>\n",
       "      <th>3</th>\n",
       "      <td>20.86</td>\n",
       "      <td>57.32</td>\n",
       "      <td>1010.24</td>\n",
       "      <td>76.64</td>\n",
       "      <td>446.48</td>\n",
       "    </tr>\n",
       "    <tr>\n",
       "      <th>4</th>\n",
       "      <td>10.82</td>\n",
       "      <td>37.50</td>\n",
       "      <td>1009.23</td>\n",
       "      <td>96.62</td>\n",
       "      <td>473.90</td>\n",
       "    </tr>\n",
       "  </tbody>\n",
       "</table>\n",
       "</div>"
      ],
      "text/plain": [
       "      AT      V       AP     RH      PE\n",
       "0  14.96  41.76  1024.07  73.17  463.26\n",
       "1  25.18  62.96  1020.04  59.08  444.37\n",
       "2   5.11  39.40  1012.16  92.14  488.56\n",
       "3  20.86  57.32  1010.24  76.64  446.48\n",
       "4  10.82  37.50  1009.23  96.62  473.90"
      ]
     },
     "execution_count": 11,
     "metadata": {},
     "output_type": "execute_result"
    }
   ],
   "source": [
    "data = pd.read_excel('energy.xlsx')\n",
    "data.head(5)"
   ]
  },
  {
   "cell_type": "code",
   "execution_count": 12,
   "id": "amber-passage",
   "metadata": {
    "ExecuteTime": {
     "end_time": "2021-07-21T20:55:59.790213Z",
     "start_time": "2021-07-21T20:55:59.785498Z"
    }
   },
   "outputs": [
    {
     "data": {
      "text/plain": [
       "(9568, 5)"
      ]
     },
     "execution_count": 12,
     "metadata": {},
     "output_type": "execute_result"
    }
   ],
   "source": [
    "data.shape"
   ]
  },
  {
   "cell_type": "code",
   "execution_count": 13,
   "id": "living-precipitation",
   "metadata": {
    "ExecuteTime": {
     "end_time": "2021-07-21T20:55:59.810682Z",
     "start_time": "2021-07-21T20:55:59.792471Z"
    }
   },
   "outputs": [],
   "source": [
    "# Shuffle Data\n",
    "data = data.sample(frac=1) "
   ]
  },
  {
   "cell_type": "code",
   "execution_count": 15,
   "id": "fifth-missouri",
   "metadata": {
    "ExecuteTime": {
     "end_time": "2021-07-21T20:56:07.994269Z",
     "start_time": "2021-07-21T20:56:07.990420Z"
    }
   },
   "outputs": [],
   "source": [
    "# Slice\n",
    "data_train = data.iloc[0:7654, :]\n",
    "data_test = data.iloc[7654:, :]"
   ]
  },
  {
   "cell_type": "code",
   "execution_count": 16,
   "id": "challenging-toner",
   "metadata": {
    "ExecuteTime": {
     "end_time": "2021-07-21T20:56:08.423294Z",
     "start_time": "2021-07-21T20:56:08.418234Z"
    }
   },
   "outputs": [],
   "source": [
    "# Split\n",
    "X_train = data_train.iloc[:, :-1]\n",
    "X_test = data_test.iloc[:, :-1]\n",
    "y_train = data_train.iloc[:, -1]\n",
    "y_test = data_test.iloc[:, -1]"
   ]
  },
  {
   "cell_type": "code",
   "execution_count": 21,
   "id": "happy-society",
   "metadata": {
    "ExecuteTime": {
     "end_time": "2021-07-21T21:42:06.275499Z",
     "start_time": "2021-07-21T21:42:06.270597Z"
    }
   },
   "outputs": [
    {
     "data": {
      "text/plain": [
       "((7654, 4), (7654,))"
      ]
     },
     "execution_count": 21,
     "metadata": {},
     "output_type": "execute_result"
    }
   ],
   "source": [
    "X_train.shape, y_train.shape"
   ]
  },
  {
   "cell_type": "code",
   "execution_count": null,
   "id": "biological-lexington",
   "metadata": {},
   "outputs": [],
   "source": [
    "# Functions\n"
   ]
  }
 ],
 "metadata": {
  "kernelspec": {
   "display_name": "Python 3",
   "language": "python",
   "name": "python3"
  },
  "language_info": {
   "codemirror_mode": {
    "name": "ipython",
    "version": 3
   },
   "file_extension": ".py",
   "mimetype": "text/x-python",
   "name": "python",
   "nbconvert_exporter": "python",
   "pygments_lexer": "ipython3",
   "version": "3.7.2"
  }
 },
 "nbformat": 4,
 "nbformat_minor": 5
}
