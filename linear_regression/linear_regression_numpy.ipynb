{
 "cells": [
  {
   "cell_type": "markdown",
   "id": "adult-roulette",
   "metadata": {},
   "source": [
    "### Linear Regression from scratch"
   ]
  },
  {
   "cell_type": "code",
   "execution_count": 1,
   "id": "together-decrease",
   "metadata": {
    "ExecuteTime": {
     "end_time": "2021-07-22T19:33:22.773993Z",
     "start_time": "2021-07-22T19:33:22.345802Z"
    }
   },
   "outputs": [],
   "source": [
    "import numpy as np\n",
    "import pandas as pd\n",
    "import matplotlib.pyplot as plt"
   ]
  },
  {
   "cell_type": "code",
   "execution_count": 2,
   "id": "fatal-novelty",
   "metadata": {
    "ExecuteTime": {
     "end_time": "2021-07-22T19:33:23.774964Z",
     "start_time": "2021-07-22T19:33:22.776720Z"
    }
   },
   "outputs": [
    {
     "data": {
      "text/html": [
       "<div>\n",
       "<style scoped>\n",
       "    .dataframe tbody tr th:only-of-type {\n",
       "        vertical-align: middle;\n",
       "    }\n",
       "\n",
       "    .dataframe tbody tr th {\n",
       "        vertical-align: top;\n",
       "    }\n",
       "\n",
       "    .dataframe thead th {\n",
       "        text-align: right;\n",
       "    }\n",
       "</style>\n",
       "<table border=\"1\" class=\"dataframe\">\n",
       "  <thead>\n",
       "    <tr style=\"text-align: right;\">\n",
       "      <th></th>\n",
       "      <th>AT</th>\n",
       "      <th>V</th>\n",
       "      <th>AP</th>\n",
       "      <th>RH</th>\n",
       "      <th>PE</th>\n",
       "    </tr>\n",
       "  </thead>\n",
       "  <tbody>\n",
       "    <tr>\n",
       "      <th>0</th>\n",
       "      <td>14.96</td>\n",
       "      <td>41.76</td>\n",
       "      <td>1024.07</td>\n",
       "      <td>73.17</td>\n",
       "      <td>463.26</td>\n",
       "    </tr>\n",
       "    <tr>\n",
       "      <th>1</th>\n",
       "      <td>25.18</td>\n",
       "      <td>62.96</td>\n",
       "      <td>1020.04</td>\n",
       "      <td>59.08</td>\n",
       "      <td>444.37</td>\n",
       "    </tr>\n",
       "    <tr>\n",
       "      <th>2</th>\n",
       "      <td>5.11</td>\n",
       "      <td>39.40</td>\n",
       "      <td>1012.16</td>\n",
       "      <td>92.14</td>\n",
       "      <td>488.56</td>\n",
       "    </tr>\n",
       "    <tr>\n",
       "      <th>3</th>\n",
       "      <td>20.86</td>\n",
       "      <td>57.32</td>\n",
       "      <td>1010.24</td>\n",
       "      <td>76.64</td>\n",
       "      <td>446.48</td>\n",
       "    </tr>\n",
       "    <tr>\n",
       "      <th>4</th>\n",
       "      <td>10.82</td>\n",
       "      <td>37.50</td>\n",
       "      <td>1009.23</td>\n",
       "      <td>96.62</td>\n",
       "      <td>473.90</td>\n",
       "    </tr>\n",
       "  </tbody>\n",
       "</table>\n",
       "</div>"
      ],
      "text/plain": [
       "      AT      V       AP     RH      PE\n",
       "0  14.96  41.76  1024.07  73.17  463.26\n",
       "1  25.18  62.96  1020.04  59.08  444.37\n",
       "2   5.11  39.40  1012.16  92.14  488.56\n",
       "3  20.86  57.32  1010.24  76.64  446.48\n",
       "4  10.82  37.50  1009.23  96.62  473.90"
      ]
     },
     "execution_count": 2,
     "metadata": {},
     "output_type": "execute_result"
    }
   ],
   "source": [
    "data = pd.read_excel('energy.xlsx')\n",
    "data.head(5)"
   ]
  },
  {
   "cell_type": "code",
   "execution_count": 3,
   "id": "amber-passage",
   "metadata": {
    "ExecuteTime": {
     "end_time": "2021-07-22T19:33:23.783416Z",
     "start_time": "2021-07-22T19:33:23.777887Z"
    }
   },
   "outputs": [
    {
     "data": {
      "text/plain": [
       "(9568, 5)"
      ]
     },
     "execution_count": 3,
     "metadata": {},
     "output_type": "execute_result"
    }
   ],
   "source": [
    "data.shape"
   ]
  },
  {
   "cell_type": "code",
   "execution_count": 4,
   "id": "living-precipitation",
   "metadata": {
    "ExecuteTime": {
     "end_time": "2021-07-22T19:33:23.792377Z",
     "start_time": "2021-07-22T19:33:23.786266Z"
    }
   },
   "outputs": [],
   "source": [
    "# Shuffle Data\n",
    "data = data.sample(frac=1) "
   ]
  },
  {
   "cell_type": "code",
   "execution_count": 5,
   "id": "biological-lexington",
   "metadata": {
    "ExecuteTime": {
     "end_time": "2021-07-22T19:33:23.809091Z",
     "start_time": "2021-07-22T19:33:23.796517Z"
    }
   },
   "outputs": [],
   "source": [
    "# Functions\n",
    "\n",
    "def feat_scaling(X):\n",
    "    \n",
    "    mean = np.mean(X, axis=0)\n",
    "    sigma = np.std(X, axis=0)\n",
    "    \n",
    "    X_scale = (X-mean) / sigma\n",
    "    \n",
    "    return X_scale\n",
    "\n",
    "def cost_function(X, y, w, b):\n",
    "    \n",
    "    J = (1/2*len(y))*np.sum(((X.dot(w) +b)-y)**2) \n",
    "    \n",
    "    return J\n",
    "\n",
    "def gradient_descent(X, y, w, b, alpha, epochs):\n",
    "    \n",
    "    cost_history = []\n",
    "    m = len(y)\n",
    "    \n",
    "    for epoch in range(epochs):\n",
    "        \n",
    "        h = X.dot(w) + b \n",
    "        loss = h - y\n",
    "        \n",
    "        dw = X.T.dot(loss) / m\n",
    "        db = np.sum(loss) / m\n",
    "        \n",
    "        w -= alpha * dw\n",
    "        b -= alpha * db\n",
    "        \n",
    "        cost = cost_function(X, y, w, b)\n",
    "        cost_history.append(cost)\n",
    "        \n",
    "        if (epoch % 100 == 0):\n",
    "            print(\"Epoch: \", epoch)\n",
    "            print(\"Cost: \", cost)\n",
    "        \n",
    "    return w, b, cost_history\n",
    "\n",
    "def predict(X, w, b):\n",
    "    \n",
    "    predictions = X.dot(w) + b\n",
    "    \n",
    "    return predictions\n",
    "\n",
    "def r2(predictions, y):\n",
    "    \n",
    "    ssr = np.sum((predictions - y)**2)\n",
    "    sst = np.sum((y-y.mean())**2)\n",
    "    \n",
    "    r2 = 1 - (ssr/sst)\n",
    "    \n",
    "    return r2"
   ]
  },
  {
   "cell_type": "code",
   "execution_count": 6,
   "id": "periodic-insulin",
   "metadata": {
    "ExecuteTime": {
     "end_time": "2021-07-22T19:33:23.836371Z",
     "start_time": "2021-07-22T19:33:23.813316Z"
    }
   },
   "outputs": [],
   "source": [
    "data = feat_scaling(data)"
   ]
  },
  {
   "cell_type": "code",
   "execution_count": 7,
   "id": "limiting-chambers",
   "metadata": {
    "ExecuteTime": {
     "end_time": "2021-07-22T19:33:23.842227Z",
     "start_time": "2021-07-22T19:33:23.838514Z"
    }
   },
   "outputs": [],
   "source": [
    "# Slice\n",
    "data_train = data.iloc[0:7654, :]\n",
    "data_test = data.iloc[7654:, :]"
   ]
  },
  {
   "cell_type": "code",
   "execution_count": 8,
   "id": "guided-provincial",
   "metadata": {
    "ExecuteTime": {
     "end_time": "2021-07-22T19:33:23.851516Z",
     "start_time": "2021-07-22T19:33:23.846860Z"
    }
   },
   "outputs": [],
   "source": [
    "# Split\n",
    "X_train = data_train.iloc[:, :-1]\n",
    "X_test = data_test.iloc[:, :-1]\n",
    "y_train = data_train.iloc[:, -1]\n",
    "y_test = data_test.iloc[:, -1]"
   ]
  },
  {
   "cell_type": "code",
   "execution_count": 9,
   "id": "entire-accent",
   "metadata": {
    "ExecuteTime": {
     "end_time": "2021-07-22T19:33:23.860402Z",
     "start_time": "2021-07-22T19:33:23.853545Z"
    }
   },
   "outputs": [
    {
     "data": {
      "text/plain": [
       "((7654, 4), (7654,))"
      ]
     },
     "execution_count": 9,
     "metadata": {},
     "output_type": "execute_result"
    }
   ],
   "source": [
    "X_train.shape, y_train.shape"
   ]
  },
  {
   "cell_type": "code",
   "execution_count": 10,
   "id": "advised-career",
   "metadata": {
    "ExecuteTime": {
     "end_time": "2021-07-22T19:33:23.868748Z",
     "start_time": "2021-07-22T19:33:23.864788Z"
    }
   },
   "outputs": [],
   "source": [
    "# Initialization\n",
    "w = np.zeros(X_train.shape[1])\n",
    "b = 0\n",
    "alpha = 0.01\n",
    "epochs = 5000"
   ]
  },
  {
   "cell_type": "code",
   "execution_count": 11,
   "id": "familiar-studio",
   "metadata": {
    "ExecuteTime": {
     "end_time": "2021-07-22T19:33:39.121897Z",
     "start_time": "2021-07-22T19:33:23.871474Z"
    }
   },
   "outputs": [
    {
     "name": "stdout",
     "output_type": "stream",
     "text": [
      "Epoch:  0\n",
      "Cost:  28243096.0106546\n",
      "Epoch:  100\n",
      "Cost:  3649109.6569267726\n",
      "Epoch:  200\n",
      "Cost:  2978268.765009419\n",
      "Epoch:  300\n",
      "Cost:  2731857.1484399666\n",
      "Epoch:  400\n",
      "Cost:  2586698.071945334\n",
      "Epoch:  500\n",
      "Cost:  2486264.761845121\n",
      "Epoch:  600\n",
      "Cost:  2410304.114946581\n",
      "Epoch:  700\n",
      "Cost:  2350344.1637166096\n",
      "Epoch:  800\n",
      "Cost:  2302116.0345836976\n",
      "Epoch:  900\n",
      "Cost:  2263014.6041888697\n",
      "Epoch:  1000\n",
      "Cost:  2231207.7636357234\n",
      "Epoch:  1100\n",
      "Cost:  2205299.328361996\n",
      "Epoch:  1200\n",
      "Cost:  2184183.6081211884\n",
      "Epoch:  1300\n",
      "Cost:  2166970.0365341525\n",
      "Epoch:  1400\n",
      "Cost:  2152936.169931555\n",
      "Epoch:  1500\n",
      "Cost:  2141494.203791979\n",
      "Epoch:  1600\n",
      "Cost:  2132165.292943083\n",
      "Epoch:  1700\n",
      "Cost:  2124559.156844813\n",
      "Epoch:  1800\n",
      "Cost:  2118357.632988826\n",
      "Epoch:  1900\n",
      "Cost:  2113301.32838332\n",
      "Epoch:  2000\n",
      "Cost:  2109178.7564859344\n",
      "Epoch:  2100\n",
      "Cost:  2105817.4870266714\n",
      "Epoch:  2200\n",
      "Cost:  2103076.932457163\n",
      "Epoch:  2300\n",
      "Cost:  2100842.467271262\n",
      "Epoch:  2400\n",
      "Cost:  2099020.6335490765\n",
      "Epoch:  2500\n",
      "Cost:  2097535.2319639227\n",
      "Epoch:  2600\n",
      "Cost:  2096324.1346792604\n",
      "Epoch:  2700\n",
      "Cost:  2095336.686807314\n",
      "Epoch:  2800\n",
      "Cost:  2094531.5877351556\n",
      "Epoch:  2900\n",
      "Cost:  2093875.1637005259\n",
      "Epoch:  3000\n",
      "Cost:  2093339.9593658454\n",
      "Epoch:  3100\n",
      "Cost:  2092903.5894818115\n",
      "Epoch:  3200\n",
      "Cost:  2092547.8026106018\n",
      "Epoch:  3300\n",
      "Cost:  2092257.717748294\n",
      "Epoch:  3400\n",
      "Cost:  2092021.2019177496\n",
      "Epoch:  3500\n",
      "Cost:  2091828.3626994167\n",
      "Epoch:  3600\n",
      "Cost:  2091671.1344748111\n",
      "Epoch:  3700\n",
      "Cost:  2091542.941077088\n",
      "Epoch:  3800\n",
      "Cost:  2091438.4207388272\n",
      "Epoch:  3900\n",
      "Cost:  2091353.201832829\n",
      "Epoch:  4000\n",
      "Cost:  2091283.7200261268\n",
      "Epoch:  4100\n",
      "Cost:  2091227.069199575\n",
      "Epoch:  4200\n",
      "Cost:  2091180.879897637\n",
      "Epoch:  4300\n",
      "Cost:  2091143.2202244527\n",
      "Epoch:  4400\n",
      "Cost:  2091112.5150411138\n",
      "Epoch:  4500\n",
      "Cost:  2091087.4800845098\n",
      "Epoch:  4600\n",
      "Cost:  2091067.0682522377\n",
      "Epoch:  4700\n",
      "Cost:  2091050.425806906\n",
      "Epoch:  4800\n",
      "Cost:  2091036.8566680388\n",
      "Epoch:  4900\n",
      "Cost:  2091025.7932980868\n"
     ]
    }
   ],
   "source": [
    "w, b , cost_history = gradient_descent(X_train, y_train, w, b, alpha, epochs)"
   ]
  },
  {
   "cell_type": "code",
   "execution_count": 12,
   "id": "adapted-kernel",
   "metadata": {
    "ExecuteTime": {
     "end_time": "2021-07-22T19:33:39.306462Z",
     "start_time": "2021-07-22T19:33:39.131114Z"
    }
   },
   "outputs": [
    {
     "data": {
      "text/plain": [
       "[<matplotlib.lines.Line2D at 0x7fece67556d8>]"
      ]
     },
     "execution_count": 12,
     "metadata": {},
     "output_type": "execute_result"
    },
    {
     "data": {
      "image/png": "[encoded data removed]",
      "text/plain": [
       "<Figure size 432x288 with 1 Axes>"
      ]
     },
     "metadata": {
      "needs_background": "light"
     },
     "output_type": "display_data"
    }
   ],
   "source": [
    "# Plot Cost\n",
    "plt.plot(cost_history)"
   ]
  },
  {
   "cell_type": "code",
   "execution_count": 13,
   "id": "designed-windows",
   "metadata": {
    "ExecuteTime": {
     "end_time": "2021-07-22T19:33:39.313132Z",
     "start_time": "2021-07-22T19:33:39.308525Z"
    }
   },
   "outputs": [],
   "source": [
    "y_pred = predict(X_test, w, b)"
   ]
  },
  {
   "cell_type": "code",
   "execution_count": 14,
   "id": "objective-charge",
   "metadata": {
    "ExecuteTime": {
     "end_time": "2021-07-22T19:33:39.331626Z",
     "start_time": "2021-07-22T19:33:39.315366Z"
    }
   },
   "outputs": [
    {
     "name": "stdout",
     "output_type": "stream",
     "text": [
      "0.9272755231600546\n"
     ]
    }
   ],
   "source": [
    "r2 = r2(y_pred, y_test)\n",
    "print(r2)"
   ]
  },
  {
   "cell_type": "code",
   "execution_count": 15,
   "id": "imported-northern",
   "metadata": {
    "ExecuteTime": {
     "end_time": "2021-07-22T19:33:39.339958Z",
     "start_time": "2021-07-22T19:33:39.335169Z"
    }
   },
   "outputs": [],
   "source": [
    "# The r2 score is almost the same than Sklearn, but the feature scaling done here leads to data leakage"
   ]
  }
 ],
 "metadata": {
  "kernelspec": {
   "display_name": "Python 3",
   "language": "python",
   "name": "python3"
  },
  "language_info": {
   "codemirror_mode": {
    "name": "ipython",
    "version": 3
   },
   "file_extension": ".py",
   "mimetype": "text/x-python",
   "name": "python",
   "nbconvert_exporter": "python",
   "pygments_lexer": "ipython3",
   "version": "3.7.2"
  }
 },
 "nbformat": 4,
 "nbformat_minor": 5
}
