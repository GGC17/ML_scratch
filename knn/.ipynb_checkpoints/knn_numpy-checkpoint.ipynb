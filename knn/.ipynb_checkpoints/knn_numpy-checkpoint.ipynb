{
 "cells": [
  {
   "cell_type": "code",
   "execution_count": 1,
   "id": "neutral-advocate",
   "metadata": {
    "ExecuteTime": {
     "end_time": "2021-08-12T15:06:02.515349Z",
     "start_time": "2021-08-12T15:06:01.728533Z"
    }
   },
   "outputs": [],
   "source": [
    "import numpy as np\n",
    "import pandas as pd\n",
    "import seaborn as sns\n",
    "from sklearn.datasets import load_iris\n",
    "from collections import Counter\n",
    "\n",
    "iris = load_iris()"
   ]
  },
  {
   "cell_type": "code",
   "execution_count": 2,
   "id": "funky-documentary",
   "metadata": {
    "ExecuteTime": {
     "end_time": "2021-08-12T15:06:02.542092Z",
     "start_time": "2021-08-12T15:06:02.517841Z"
    }
   },
   "outputs": [
    {
     "data": {
      "text/html": [
       "<div>\n",
       "<style scoped>\n",
       "    .dataframe tbody tr th:only-of-type {\n",
       "        vertical-align: middle;\n",
       "    }\n",
       "\n",
       "    .dataframe tbody tr th {\n",
       "        vertical-align: top;\n",
       "    }\n",
       "\n",
       "    .dataframe thead th {\n",
       "        text-align: right;\n",
       "    }\n",
       "</style>\n",
       "<table border=\"1\" class=\"dataframe\">\n",
       "  <thead>\n",
       "    <tr style=\"text-align: right;\">\n",
       "      <th></th>\n",
       "      <th>sepal length (cm)</th>\n",
       "      <th>sepal width (cm)</th>\n",
       "      <th>petal length (cm)</th>\n",
       "      <th>petal width (cm)</th>\n",
       "      <th>label</th>\n",
       "      <th>species</th>\n",
       "    </tr>\n",
       "  </thead>\n",
       "  <tbody>\n",
       "    <tr>\n",
       "      <th>0</th>\n",
       "      <td>5.1</td>\n",
       "      <td>3.5</td>\n",
       "      <td>1.4</td>\n",
       "      <td>0.2</td>\n",
       "      <td>0</td>\n",
       "      <td>setosa</td>\n",
       "    </tr>\n",
       "    <tr>\n",
       "      <th>1</th>\n",
       "      <td>4.9</td>\n",
       "      <td>3.0</td>\n",
       "      <td>1.4</td>\n",
       "      <td>0.2</td>\n",
       "      <td>0</td>\n",
       "      <td>setosa</td>\n",
       "    </tr>\n",
       "    <tr>\n",
       "      <th>2</th>\n",
       "      <td>4.7</td>\n",
       "      <td>3.2</td>\n",
       "      <td>1.3</td>\n",
       "      <td>0.2</td>\n",
       "      <td>0</td>\n",
       "      <td>setosa</td>\n",
       "    </tr>\n",
       "    <tr>\n",
       "      <th>3</th>\n",
       "      <td>4.6</td>\n",
       "      <td>3.1</td>\n",
       "      <td>1.5</td>\n",
       "      <td>0.2</td>\n",
       "      <td>0</td>\n",
       "      <td>setosa</td>\n",
       "    </tr>\n",
       "    <tr>\n",
       "      <th>4</th>\n",
       "      <td>5.0</td>\n",
       "      <td>3.6</td>\n",
       "      <td>1.4</td>\n",
       "      <td>0.2</td>\n",
       "      <td>0</td>\n",
       "      <td>setosa</td>\n",
       "    </tr>\n",
       "  </tbody>\n",
       "</table>\n",
       "</div>"
      ],
      "text/plain": [
       "   sepal length (cm)  sepal width (cm)  petal length (cm)  petal width (cm)  \\\n",
       "0                5.1               3.5                1.4               0.2   \n",
       "1                4.9               3.0                1.4               0.2   \n",
       "2                4.7               3.2                1.3               0.2   \n",
       "3                4.6               3.1                1.5               0.2   \n",
       "4                5.0               3.6                1.4               0.2   \n",
       "\n",
       "   label species  \n",
       "0      0  setosa  \n",
       "1      0  setosa  \n",
       "2      0  setosa  \n",
       "3      0  setosa  \n",
       "4      0  setosa  "
      ]
     },
     "execution_count": 2,
     "metadata": {},
     "output_type": "execute_result"
    }
   ],
   "source": [
    "iris_df = pd.DataFrame(iris['data'], columns=iris['feature_names'])\n",
    "\n",
    "iris_df['label'] = iris['target']\n",
    "\n",
    "iris_df['species'] = iris['target']\n",
    "iris_df['species'] = iris_df['species'].apply(lambda x: iris['target_names'][x])\n",
    "\n",
    "iris_df.head()"
   ]
  },
  {
   "cell_type": "code",
   "execution_count": 3,
   "id": "threaded-times",
   "metadata": {
    "ExecuteTime": {
     "end_time": "2021-08-12T15:06:02.747464Z",
     "start_time": "2021-08-12T15:06:02.546133Z"
    }
   },
   "outputs": [
    {
     "data": {
      "text/plain": [
       "<AxesSubplot:xlabel='petal width (cm)', ylabel='petal length (cm)'>"
      ]
     },
     "execution_count": 3,
     "metadata": {},
     "output_type": "execute_result"
    },
    {
     "data": {
      "image/png": "[encoded data removed]",
      "text/plain": [
       "<Figure size 432x288 with 1 Axes>"
      ]
     },
     "metadata": {
      "needs_background": "light"
     },
     "output_type": "display_data"
    }
   ],
   "source": [
    "sns.scatterplot(x = 'petal width (cm)', y = 'petal length (cm)', hue = 'species', data = iris_df)"
   ]
  },
  {
   "cell_type": "code",
   "execution_count": 4,
   "id": "dependent-salem",
   "metadata": {
    "ExecuteTime": {
     "end_time": "2021-08-12T15:06:02.754169Z",
     "start_time": "2021-08-12T15:06:02.749780Z"
    }
   },
   "outputs": [],
   "source": [
    "# Shuffle Data\n",
    "df = iris_df.sample(frac=1)"
   ]
  },
  {
   "cell_type": "code",
   "execution_count": 5,
   "id": "naval-official",
   "metadata": {
    "ExecuteTime": {
     "end_time": "2021-08-12T15:06:02.764475Z",
     "start_time": "2021-08-12T15:06:02.756950Z"
    }
   },
   "outputs": [
    {
     "data": {
      "text/plain": [
       "(150, 6)"
      ]
     },
     "execution_count": 5,
     "metadata": {},
     "output_type": "execute_result"
    }
   ],
   "source": [
    "df.shape"
   ]
  },
  {
   "cell_type": "code",
   "execution_count": 6,
   "id": "pursuant-philosophy",
   "metadata": {
    "ExecuteTime": {
     "end_time": "2021-08-12T15:06:02.773789Z",
     "start_time": "2021-08-12T15:06:02.767617Z"
    }
   },
   "outputs": [],
   "source": [
    "# Slice\n",
    "df_train = df.iloc[0:120, :]\n",
    "df_test = df.iloc[120:, :]"
   ]
  },
  {
   "cell_type": "code",
   "execution_count": 7,
   "id": "dental-andrews",
   "metadata": {
    "ExecuteTime": {
     "end_time": "2021-08-12T15:06:02.788202Z",
     "start_time": "2021-08-12T15:06:02.776849Z"
    }
   },
   "outputs": [],
   "source": [
    "# Split\n",
    "X_train = np.array(df_train.iloc[:, :-2])\n",
    "X_test = np.array(df_test.iloc[:, :-2])\n",
    "y_train = np.array(df_train.iloc[:, -2])\n",
    "y_test = np.array(df_test.iloc[:, -2])"
   ]
  },
  {
   "cell_type": "markdown",
   "id": "cheap-snake",
   "metadata": {},
   "source": [
    "### Model"
   ]
  },
  {
   "cell_type": "code",
   "execution_count": 8,
   "id": "passing-individual",
   "metadata": {
    "ExecuteTime": {
     "end_time": "2021-08-12T15:06:02.797990Z",
     "start_time": "2021-08-12T15:06:02.790672Z"
    }
   },
   "outputs": [],
   "source": [
    "def euclidean_distance(x1, x2):\n",
    "    \n",
    "    return np.sqrt(np.sum(x1-x2)**2)\n",
    "\n",
    "def distances(x1, k=10):\n",
    "    \n",
    "    distances = [euclidean_distance(x1, x2) for x2 in X_train]\n",
    "    \n",
    "    ki = np.argsort(distances)[:k]\n",
    "    \n",
    "    k_labels = [y_train[i] for i in ki]\n",
    "    \n",
    "    most_common = Counter(k_labels).most_common(1)\n",
    "    \n",
    "    return most_common[0][0]\n",
    "\n",
    "def predict(X_test):\n",
    "    \n",
    "    y_pred = [distances(x1) for x1 in X_test]\n",
    "    \n",
    "    return np.array(y_pred)\n",
    "\n",
    "def accuracy(y_true, y_pred):\n",
    "    \n",
    "    accuracy = np.sum(y_true == y_pred) / len(y_true)\n",
    "    \n",
    "    return accuracy"
   ]
  },
  {
   "cell_type": "code",
   "execution_count": 9,
   "id": "inclusive-margin",
   "metadata": {
    "ExecuteTime": {
     "end_time": "2021-08-12T15:06:02.840470Z",
     "start_time": "2021-08-12T15:06:02.799876Z"
    }
   },
   "outputs": [],
   "source": [
    "y_pred = predict(X_test)"
   ]
  },
  {
   "cell_type": "code",
   "execution_count": 10,
   "id": "unlimited-alliance",
   "metadata": {
    "ExecuteTime": {
     "end_time": "2021-08-12T15:06:02.856403Z",
     "start_time": "2021-08-12T15:06:02.843420Z"
    }
   },
   "outputs": [
    {
     "data": {
      "text/plain": [
       "0.8666666666666667"
      ]
     },
     "execution_count": 10,
     "metadata": {},
     "output_type": "execute_result"
    }
   ],
   "source": [
    "accuracy(y_test, y_pred)"
   ]
  }
 ],
 "metadata": {
  "kernelspec": {
   "display_name": "Python 3",
   "language": "python",
   "name": "python3"
  },
  "language_info": {
   "codemirror_mode": {
    "name": "ipython",
    "version": 3
   },
   "file_extension": ".py",
   "mimetype": "text/x-python",
   "name": "python",
   "nbconvert_exporter": "python",
   "pygments_lexer": "ipython3",
   "version": "3.7.2"
  }
 },
 "nbformat": 4,
 "nbformat_minor": 5
}
