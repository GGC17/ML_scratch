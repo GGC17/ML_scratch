{
 "cells": [
  {
   "cell_type": "markdown",
   "id": "meaningful-jacket",
   "metadata": {},
   "source": [
    "### Simple Sklearn Model"
   ]
  },
  {
   "cell_type": "code",
   "execution_count": 18,
   "id": "smooth-number",
   "metadata": {
    "ExecuteTime": {
     "end_time": "2021-07-26T18:39:39.306411Z",
     "start_time": "2021-07-26T18:39:39.302529Z"
    }
   },
   "outputs": [],
   "source": [
    "import pandas as pd\n",
    "import numpy as np\n",
    "import matplotlib.pyplot as plt\n",
    "import seaborn as sns\n",
    "from sklearn.metrics import accuracy_score"
   ]
  },
  {
   "cell_type": "code",
   "execution_count": 6,
   "id": "commercial-cycle",
   "metadata": {
    "ExecuteTime": {
     "end_time": "2021-07-26T18:30:17.542216Z",
     "start_time": "2021-07-26T18:30:17.523821Z"
    }
   },
   "outputs": [
    {
     "data": {
      "text/html": [
       "<div>\n",
       "<style scoped>\n",
       "    .dataframe tbody tr th:only-of-type {\n",
       "        vertical-align: middle;\n",
       "    }\n",
       "\n",
       "    .dataframe tbody tr th {\n",
       "        vertical-align: top;\n",
       "    }\n",
       "\n",
       "    .dataframe thead th {\n",
       "        text-align: right;\n",
       "    }\n",
       "</style>\n",
       "<table border=\"1\" class=\"dataframe\">\n",
       "  <thead>\n",
       "    <tr style=\"text-align: right;\">\n",
       "      <th></th>\n",
       "      <th>rating</th>\n",
       "      <th>CGPA</th>\n",
       "      <th>admitted</th>\n",
       "    </tr>\n",
       "  </thead>\n",
       "  <tbody>\n",
       "    <tr>\n",
       "      <th>0</th>\n",
       "      <td>4</td>\n",
       "      <td>9.88</td>\n",
       "      <td>True</td>\n",
       "    </tr>\n",
       "    <tr>\n",
       "      <th>1</th>\n",
       "      <td>4</td>\n",
       "      <td>8.30</td>\n",
       "      <td>True</td>\n",
       "    </tr>\n",
       "    <tr>\n",
       "      <th>2</th>\n",
       "      <td>3</td>\n",
       "      <td>6.59</td>\n",
       "      <td>False</td>\n",
       "    </tr>\n",
       "    <tr>\n",
       "      <th>3</th>\n",
       "      <td>4</td>\n",
       "      <td>8.96</td>\n",
       "      <td>True</td>\n",
       "    </tr>\n",
       "    <tr>\n",
       "      <th>4</th>\n",
       "      <td>1</td>\n",
       "      <td>5.74</td>\n",
       "      <td>True</td>\n",
       "    </tr>\n",
       "    <tr>\n",
       "      <th>...</th>\n",
       "      <td>...</td>\n",
       "      <td>...</td>\n",
       "      <td>...</td>\n",
       "    </tr>\n",
       "    <tr>\n",
       "      <th>1535</th>\n",
       "      <td>5</td>\n",
       "      <td>8.89</td>\n",
       "      <td>False</td>\n",
       "    </tr>\n",
       "    <tr>\n",
       "      <th>1536</th>\n",
       "      <td>3</td>\n",
       "      <td>7.05</td>\n",
       "      <td>False</td>\n",
       "    </tr>\n",
       "    <tr>\n",
       "      <th>1537</th>\n",
       "      <td>3</td>\n",
       "      <td>7.68</td>\n",
       "      <td>True</td>\n",
       "    </tr>\n",
       "    <tr>\n",
       "      <th>1538</th>\n",
       "      <td>2</td>\n",
       "      <td>6.05</td>\n",
       "      <td>False</td>\n",
       "    </tr>\n",
       "    <tr>\n",
       "      <th>1539</th>\n",
       "      <td>3</td>\n",
       "      <td>7.14</td>\n",
       "      <td>False</td>\n",
       "    </tr>\n",
       "  </tbody>\n",
       "</table>\n",
       "<p>1540 rows × 3 columns</p>\n",
       "</div>"
      ],
      "text/plain": [
       "      rating  CGPA  admitted\n",
       "0          4  9.88      True\n",
       "1          4  8.30      True\n",
       "2          3  6.59     False\n",
       "3          4  8.96      True\n",
       "4          1  5.74      True\n",
       "...      ...   ...       ...\n",
       "1535       5  8.89     False\n",
       "1536       3  7.05     False\n",
       "1537       3  7.68      True\n",
       "1538       2  6.05     False\n",
       "1539       3  7.14     False\n",
       "\n",
       "[1540 rows x 3 columns]"
      ]
     },
     "execution_count": 6,
     "metadata": {},
     "output_type": "execute_result"
    }
   ],
   "source": [
    "df = pd.read_csv('university_admissions.csv')\n",
    "df"
   ]
  },
  {
   "cell_type": "code",
   "execution_count": 7,
   "id": "italian-royalty",
   "metadata": {
    "ExecuteTime": {
     "end_time": "2021-07-26T18:30:17.945033Z",
     "start_time": "2021-07-26T18:30:17.713325Z"
    }
   },
   "outputs": [
    {
     "data": {
      "text/plain": [
       "<AxesSubplot:xlabel='CGPA', ylabel='rating'>"
      ]
     },
     "execution_count": 7,
     "metadata": {},
     "output_type": "execute_result"
    },
    {
     "data": {
      "image/png": "[encoded data removed]",
      "text/plain": [
       "<Figure size 432x288 with 1 Axes>"
      ]
     },
     "metadata": {
      "needs_background": "light"
     },
     "output_type": "display_data"
    }
   ],
   "source": [
    "sns.scatterplot(x = 'CGPA', y ='rating', hue = 'admitted', data = df)"
   ]
  },
  {
   "cell_type": "code",
   "execution_count": 8,
   "id": "fossil-reunion",
   "metadata": {
    "ExecuteTime": {
     "end_time": "2021-07-26T18:30:24.681974Z",
     "start_time": "2021-07-26T18:30:24.490325Z"
    }
   },
   "outputs": [],
   "source": [
    "from sklearn.model_selection import train_test_split\n",
    "X = df[['CGPA', 'rating']]\n",
    "y = df['admitted']\n",
    "\n",
    "X_train, X_test, y_train, y_test = train_test_split(X, y, test_size=0.3,random_state = 1)"
   ]
  },
  {
   "cell_type": "code",
   "execution_count": 9,
   "id": "suburban-penalty",
   "metadata": {
    "ExecuteTime": {
     "end_time": "2021-07-26T18:30:33.672802Z",
     "start_time": "2021-07-26T18:30:33.601497Z"
    }
   },
   "outputs": [
    {
     "data": {
      "text/plain": [
       "0.829004329004329"
      ]
     },
     "execution_count": 9,
     "metadata": {},
     "output_type": "execute_result"
    }
   ],
   "source": [
    "from sklearn.linear_model import LogisticRegression\n",
    "\n",
    "log_model = LogisticRegression()\n",
    "result = log_model.fit(X_train, y_train)\n",
    "log_model.score(X_test, y_test) # Accuracy"
   ]
  },
  {
   "cell_type": "code",
   "execution_count": 10,
   "id": "essential-timer",
   "metadata": {
    "ExecuteTime": {
     "end_time": "2021-07-26T18:31:08.173553Z",
     "start_time": "2021-07-26T18:31:08.168199Z"
    }
   },
   "outputs": [
    {
     "data": {
      "text/plain": [
       "array([[ 3.99401439, -3.40903788]])"
      ]
     },
     "execution_count": 10,
     "metadata": {},
     "output_type": "execute_result"
    }
   ],
   "source": [
    "log_model.coef_"
   ]
  },
  {
   "cell_type": "code",
   "execution_count": 12,
   "id": "invisible-lawsuit",
   "metadata": {
    "ExecuteTime": {
     "end_time": "2021-07-26T18:31:17.095969Z",
     "start_time": "2021-07-26T18:31:17.090358Z"
    }
   },
   "outputs": [
    {
     "data": {
      "text/plain": [
       "array([-19.32123615])"
      ]
     },
     "execution_count": 12,
     "metadata": {},
     "output_type": "execute_result"
    }
   ],
   "source": [
    "log_model.intercept_"
   ]
  },
  {
   "cell_type": "markdown",
   "id": "cognitive-forest",
   "metadata": {},
   "source": [
    "#### Some Tests"
   ]
  },
  {
   "cell_type": "markdown",
   "id": "aggregate-cursor",
   "metadata": {},
   "source": [
    "If my CGPA is 6, will I be accepted in an university with a rating of 4?"
   ]
  },
  {
   "cell_type": "code",
   "execution_count": 13,
   "id": "crazy-protocol",
   "metadata": {
    "ExecuteTime": {
     "end_time": "2021-07-26T18:31:51.965942Z",
     "start_time": "2021-07-26T18:31:51.960334Z"
    }
   },
   "outputs": [
    {
     "data": {
      "text/plain": [
       "array([False])"
      ]
     },
     "execution_count": 13,
     "metadata": {},
     "output_type": "execute_result"
    }
   ],
   "source": [
    "log_model.predict([[6, 4]])"
   ]
  },
  {
   "cell_type": "markdown",
   "id": "existing-pasta",
   "metadata": {},
   "source": [
    "If my CGPA is 7.8, what is the probability that I will be accepted in an university with a rating of 3?"
   ]
  },
  {
   "cell_type": "code",
   "execution_count": 14,
   "id": "settled-semester",
   "metadata": {
    "ExecuteTime": {
     "end_time": "2021-07-26T18:32:24.843673Z",
     "start_time": "2021-07-26T18:32:24.837300Z"
    }
   },
   "outputs": [
    {
     "data": {
      "text/plain": [
       "array([[0.16728919, 0.83271081]])"
      ]
     },
     "execution_count": 14,
     "metadata": {},
     "output_type": "execute_result"
    }
   ],
   "source": [
    "probs = log_model.predict_proba([[7.8, 3]])\n",
    "probs"
   ]
  },
  {
   "cell_type": "code",
   "execution_count": 17,
   "id": "cleared-million",
   "metadata": {
    "ExecuteTime": {
     "end_time": "2021-07-26T18:32:51.766495Z",
     "start_time": "2021-07-26T18:32:51.760898Z"
    }
   },
   "outputs": [
    {
     "data": {
      "text/plain": [
       "0.8327108128476313"
      ]
     },
     "execution_count": 17,
     "metadata": {},
     "output_type": "execute_result"
    }
   ],
   "source": [
    "probs[0,1]"
   ]
  }
 ],
 "metadata": {
  "kernelspec": {
   "display_name": "Python 3",
   "language": "python",
   "name": "python3"
  },
  "language_info": {
   "codemirror_mode": {
    "name": "ipython",
    "version": 3
   },
   "file_extension": ".py",
   "mimetype": "text/x-python",
   "name": "python",
   "nbconvert_exporter": "python",
   "pygments_lexer": "ipython3",
   "version": "3.7.2"
  }
 },
 "nbformat": 4,
 "nbformat_minor": 5
}
