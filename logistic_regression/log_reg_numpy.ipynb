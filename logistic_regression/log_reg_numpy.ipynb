{
 "cells": [
  {
   "cell_type": "code",
   "execution_count": 2,
   "id": "enclosed-drive",
   "metadata": {
    "ExecuteTime": {
     "end_time": "2021-07-26T18:46:43.491700Z",
     "start_time": "2021-07-26T18:46:43.352016Z"
    }
   },
   "outputs": [],
   "source": [
    "import numpy as np\n",
    "import pandas as pd"
   ]
  },
  {
   "cell_type": "code",
   "execution_count": 3,
   "id": "discrete-wyoming",
   "metadata": {
    "ExecuteTime": {
     "end_time": "2021-07-26T18:46:43.552141Z",
     "start_time": "2021-07-26T18:46:43.527533Z"
    }
   },
   "outputs": [
    {
     "data": {
      "text/html": [
       "<div>\n",
       "<style scoped>\n",
       "    .dataframe tbody tr th:only-of-type {\n",
       "        vertical-align: middle;\n",
       "    }\n",
       "\n",
       "    .dataframe tbody tr th {\n",
       "        vertical-align: top;\n",
       "    }\n",
       "\n",
       "    .dataframe thead th {\n",
       "        text-align: right;\n",
       "    }\n",
       "</style>\n",
       "<table border=\"1\" class=\"dataframe\">\n",
       "  <thead>\n",
       "    <tr style=\"text-align: right;\">\n",
       "      <th></th>\n",
       "      <th>rating</th>\n",
       "      <th>CGPA</th>\n",
       "      <th>admitted</th>\n",
       "    </tr>\n",
       "  </thead>\n",
       "  <tbody>\n",
       "    <tr>\n",
       "      <th>0</th>\n",
       "      <td>4</td>\n",
       "      <td>9.88</td>\n",
       "      <td>True</td>\n",
       "    </tr>\n",
       "    <tr>\n",
       "      <th>1</th>\n",
       "      <td>4</td>\n",
       "      <td>8.30</td>\n",
       "      <td>True</td>\n",
       "    </tr>\n",
       "    <tr>\n",
       "      <th>2</th>\n",
       "      <td>3</td>\n",
       "      <td>6.59</td>\n",
       "      <td>False</td>\n",
       "    </tr>\n",
       "    <tr>\n",
       "      <th>3</th>\n",
       "      <td>4</td>\n",
       "      <td>8.96</td>\n",
       "      <td>True</td>\n",
       "    </tr>\n",
       "    <tr>\n",
       "      <th>4</th>\n",
       "      <td>1</td>\n",
       "      <td>5.74</td>\n",
       "      <td>True</td>\n",
       "    </tr>\n",
       "    <tr>\n",
       "      <th>...</th>\n",
       "      <td>...</td>\n",
       "      <td>...</td>\n",
       "      <td>...</td>\n",
       "    </tr>\n",
       "    <tr>\n",
       "      <th>1535</th>\n",
       "      <td>5</td>\n",
       "      <td>8.89</td>\n",
       "      <td>False</td>\n",
       "    </tr>\n",
       "    <tr>\n",
       "      <th>1536</th>\n",
       "      <td>3</td>\n",
       "      <td>7.05</td>\n",
       "      <td>False</td>\n",
       "    </tr>\n",
       "    <tr>\n",
       "      <th>1537</th>\n",
       "      <td>3</td>\n",
       "      <td>7.68</td>\n",
       "      <td>True</td>\n",
       "    </tr>\n",
       "    <tr>\n",
       "      <th>1538</th>\n",
       "      <td>2</td>\n",
       "      <td>6.05</td>\n",
       "      <td>False</td>\n",
       "    </tr>\n",
       "    <tr>\n",
       "      <th>1539</th>\n",
       "      <td>3</td>\n",
       "      <td>7.14</td>\n",
       "      <td>False</td>\n",
       "    </tr>\n",
       "  </tbody>\n",
       "</table>\n",
       "<p>1540 rows × 3 columns</p>\n",
       "</div>"
      ],
      "text/plain": [
       "      rating  CGPA  admitted\n",
       "0          4  9.88      True\n",
       "1          4  8.30      True\n",
       "2          3  6.59     False\n",
       "3          4  8.96      True\n",
       "4          1  5.74      True\n",
       "...      ...   ...       ...\n",
       "1535       5  8.89     False\n",
       "1536       3  7.05     False\n",
       "1537       3  7.68      True\n",
       "1538       2  6.05     False\n",
       "1539       3  7.14     False\n",
       "\n",
       "[1540 rows x 3 columns]"
      ]
     },
     "execution_count": 3,
     "metadata": {},
     "output_type": "execute_result"
    }
   ],
   "source": [
    "df = pd.read_csv('university_admissions.csv')\n",
    "df"
   ]
  },
  {
   "cell_type": "code",
   "execution_count": 4,
   "id": "future-circular",
   "metadata": {
    "ExecuteTime": {
     "end_time": "2021-07-26T20:03:46.301070Z",
     "start_time": "2021-07-26T20:03:46.263958Z"
    }
   },
   "outputs": [],
   "source": [
    "# Shuffle Data\n",
    "df = df.sample(frac=1)"
   ]
  },
  {
   "cell_type": "code",
   "execution_count": 7,
   "id": "controversial-reduction",
   "metadata": {
    "ExecuteTime": {
     "end_time": "2021-07-26T20:03:54.430740Z",
     "start_time": "2021-07-26T20:03:54.425091Z"
    }
   },
   "outputs": [
    {
     "data": {
      "text/plain": [
       "(1540, 3)"
      ]
     },
     "execution_count": 7,
     "metadata": {},
     "output_type": "execute_result"
    }
   ],
   "source": [
    "df.shape"
   ]
  },
  {
   "cell_type": "code",
   "execution_count": null,
   "id": "native-business",
   "metadata": {},
   "outputs": [],
   "source": [
    "# Functions\n",
    "\n",
    "def feat_scaling(X):\n",
    "    \n",
    "    mean = np.mean(X, axis=0)\n",
    "    sigma = np.std(X, axis=0)\n",
    "    \n",
    "    X_scale = (X-mean) / sigma\n",
    "    \n",
    "    return X_scale\n",
    "\n",
    "def sigmoid(z):\n",
    "    \n",
    "    sigmoid = 1 / (1 + np.exp(-z))\n",
    "    \n",
    "    return sigmoid"
   ]
  }
 ],
 "metadata": {
  "kernelspec": {
   "display_name": "Python 3",
   "language": "python",
   "name": "python3"
  },
  "language_info": {
   "codemirror_mode": {
    "name": "ipython",
    "version": 3
   },
   "file_extension": ".py",
   "mimetype": "text/x-python",
   "name": "python",
   "nbconvert_exporter": "python",
   "pygments_lexer": "ipython3",
   "version": "3.7.2"
  }
 },
 "nbformat": 4,
 "nbformat_minor": 5
}
