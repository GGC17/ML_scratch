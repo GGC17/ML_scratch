{
 "cells": [
  {
   "cell_type": "code",
   "execution_count": 1,
   "id": "enclosed-drive",
   "metadata": {
    "ExecuteTime": {
     "end_time": "2021-07-26T21:10:39.100328Z",
     "start_time": "2021-07-26T21:10:38.699204Z"
    }
   },
   "outputs": [],
   "source": [
    "import numpy as np\n",
    "import pandas as pd\n",
    "import matplotlib.pyplot as plt"
   ]
  },
  {
   "cell_type": "code",
   "execution_count": 2,
   "id": "discrete-wyoming",
   "metadata": {
    "ExecuteTime": {
     "end_time": "2021-07-26T21:10:39.123366Z",
     "start_time": "2021-07-26T21:10:39.102478Z"
    }
   },
   "outputs": [
    {
     "data": {
      "text/html": [
       "<div>\n",
       "<style scoped>\n",
       "    .dataframe tbody tr th:only-of-type {\n",
       "        vertical-align: middle;\n",
       "    }\n",
       "\n",
       "    .dataframe tbody tr th {\n",
       "        vertical-align: top;\n",
       "    }\n",
       "\n",
       "    .dataframe thead th {\n",
       "        text-align: right;\n",
       "    }\n",
       "</style>\n",
       "<table border=\"1\" class=\"dataframe\">\n",
       "  <thead>\n",
       "    <tr style=\"text-align: right;\">\n",
       "      <th></th>\n",
       "      <th>rating</th>\n",
       "      <th>CGPA</th>\n",
       "      <th>admitted</th>\n",
       "    </tr>\n",
       "  </thead>\n",
       "  <tbody>\n",
       "    <tr>\n",
       "      <th>0</th>\n",
       "      <td>4</td>\n",
       "      <td>9.88</td>\n",
       "      <td>True</td>\n",
       "    </tr>\n",
       "    <tr>\n",
       "      <th>1</th>\n",
       "      <td>4</td>\n",
       "      <td>8.30</td>\n",
       "      <td>True</td>\n",
       "    </tr>\n",
       "    <tr>\n",
       "      <th>2</th>\n",
       "      <td>3</td>\n",
       "      <td>6.59</td>\n",
       "      <td>False</td>\n",
       "    </tr>\n",
       "    <tr>\n",
       "      <th>3</th>\n",
       "      <td>4</td>\n",
       "      <td>8.96</td>\n",
       "      <td>True</td>\n",
       "    </tr>\n",
       "    <tr>\n",
       "      <th>4</th>\n",
       "      <td>1</td>\n",
       "      <td>5.74</td>\n",
       "      <td>True</td>\n",
       "    </tr>\n",
       "    <tr>\n",
       "      <th>...</th>\n",
       "      <td>...</td>\n",
       "      <td>...</td>\n",
       "      <td>...</td>\n",
       "    </tr>\n",
       "    <tr>\n",
       "      <th>1535</th>\n",
       "      <td>5</td>\n",
       "      <td>8.89</td>\n",
       "      <td>False</td>\n",
       "    </tr>\n",
       "    <tr>\n",
       "      <th>1536</th>\n",
       "      <td>3</td>\n",
       "      <td>7.05</td>\n",
       "      <td>False</td>\n",
       "    </tr>\n",
       "    <tr>\n",
       "      <th>1537</th>\n",
       "      <td>3</td>\n",
       "      <td>7.68</td>\n",
       "      <td>True</td>\n",
       "    </tr>\n",
       "    <tr>\n",
       "      <th>1538</th>\n",
       "      <td>2</td>\n",
       "      <td>6.05</td>\n",
       "      <td>False</td>\n",
       "    </tr>\n",
       "    <tr>\n",
       "      <th>1539</th>\n",
       "      <td>3</td>\n",
       "      <td>7.14</td>\n",
       "      <td>False</td>\n",
       "    </tr>\n",
       "  </tbody>\n",
       "</table>\n",
       "<p>1540 rows × 3 columns</p>\n",
       "</div>"
      ],
      "text/plain": [
       "      rating  CGPA  admitted\n",
       "0          4  9.88      True\n",
       "1          4  8.30      True\n",
       "2          3  6.59     False\n",
       "3          4  8.96      True\n",
       "4          1  5.74      True\n",
       "...      ...   ...       ...\n",
       "1535       5  8.89     False\n",
       "1536       3  7.05     False\n",
       "1537       3  7.68      True\n",
       "1538       2  6.05     False\n",
       "1539       3  7.14     False\n",
       "\n",
       "[1540 rows x 3 columns]"
      ]
     },
     "execution_count": 2,
     "metadata": {},
     "output_type": "execute_result"
    }
   ],
   "source": [
    "df = pd.read_csv('university_admissions.csv')\n",
    "df"
   ]
  },
  {
   "cell_type": "code",
   "execution_count": 3,
   "id": "future-circular",
   "metadata": {
    "ExecuteTime": {
     "end_time": "2021-07-26T21:10:39.131851Z",
     "start_time": "2021-07-26T21:10:39.126118Z"
    }
   },
   "outputs": [],
   "source": [
    "# Shuffle Data\n",
    "df = df.sample(frac=1)"
   ]
  },
  {
   "cell_type": "code",
   "execution_count": 4,
   "id": "controversial-reduction",
   "metadata": {
    "ExecuteTime": {
     "end_time": "2021-07-26T21:10:39.141798Z",
     "start_time": "2021-07-26T21:10:39.134500Z"
    }
   },
   "outputs": [
    {
     "data": {
      "text/plain": [
       "(1540, 3)"
      ]
     },
     "execution_count": 4,
     "metadata": {},
     "output_type": "execute_result"
    }
   ],
   "source": [
    "df.shape"
   ]
  },
  {
   "cell_type": "code",
   "execution_count": 5,
   "id": "native-business",
   "metadata": {
    "ExecuteTime": {
     "end_time": "2021-07-26T21:10:39.159417Z",
     "start_time": "2021-07-26T21:10:39.144986Z"
    }
   },
   "outputs": [],
   "source": [
    "# Functions\n",
    "\n",
    "def sigmoid(z):\n",
    "    \n",
    "    sigmoid = 1 / (1 + np.exp(-z))\n",
    "    \n",
    "    return sigmoid\n",
    "\n",
    "\n",
    "def cost_function(X, y, w, b):\n",
    "    \n",
    "    z = X.dot(w) + b\n",
    "    \n",
    "    J = -(1/len(y))*np.sum((y*np.log(sigmoid(z)) + ((1 - y) * np.log(1 - sigmoid(z)))))\n",
    "    \n",
    "    return J\n",
    "\n",
    "def gradient_descent(X, y, w, b, alpha, epochs):\n",
    "    \n",
    "    cost_history = []\n",
    "    m = len(y)\n",
    "    \n",
    "    for epoch in range(epochs):\n",
    "        \n",
    "        z = X.dot(w) + b \n",
    "        loss = sigmoid(z) - y\n",
    "        \n",
    "        dw = X.T.dot(loss) / m\n",
    "        db = np.sum(loss) / m\n",
    "        \n",
    "        w -= alpha * dw\n",
    "        b -= alpha * db\n",
    "        \n",
    "        cost = cost_function(X, y, w, b)\n",
    "        cost_history.append(cost)\n",
    "        \n",
    "        if (epoch % 1000 == 0):\n",
    "            print(\"Epoch: \", epoch)\n",
    "            print(\"Cost: \", cost)\n",
    "        \n",
    "    return w, b, cost_history\n",
    "\n",
    "def predict(X, w, b, threshold=0.5):\n",
    "      \n",
    "    predictions = X.dot(w) + b\n",
    "    \n",
    "    y_pred = sigmoid(predictions)\n",
    "    \n",
    "    y_pred_class = [1 if i > threshold else 0 for i in y_pred]\n",
    "    \n",
    "    return np.array(y_pred_class)\n",
    "\n",
    "def accuracy(y_test, y_pred_class):\n",
    "    \n",
    "    accuracy = np.sum(y_test == y_pred_class) / len(y_test)\n",
    "    \n",
    "    return accuracy     "
   ]
  },
  {
   "cell_type": "code",
   "execution_count": 6,
   "id": "breeding-graphics",
   "metadata": {
    "ExecuteTime": {
     "end_time": "2021-07-26T21:10:39.173672Z",
     "start_time": "2021-07-26T21:10:39.162001Z"
    }
   },
   "outputs": [],
   "source": [
    "# Slice\n",
    "df_train = df.iloc[0:1232, :]\n",
    "df_test = df.iloc[1232:, :]"
   ]
  },
  {
   "cell_type": "code",
   "execution_count": 7,
   "id": "flexible-texas",
   "metadata": {
    "ExecuteTime": {
     "end_time": "2021-07-26T21:10:39.183618Z",
     "start_time": "2021-07-26T21:10:39.176072Z"
    }
   },
   "outputs": [],
   "source": [
    "# Split\n",
    "X_train = df_train.iloc[:, :-1]\n",
    "X_test = df_test.iloc[:, :-1]\n",
    "y_train = df_train.iloc[:, -1]\n",
    "y_test = df_test.iloc[:, -1]"
   ]
  },
  {
   "cell_type": "code",
   "execution_count": 8,
   "id": "finite-technology",
   "metadata": {
    "ExecuteTime": {
     "end_time": "2021-07-26T21:10:39.195266Z",
     "start_time": "2021-07-26T21:10:39.187713Z"
    }
   },
   "outputs": [
    {
     "data": {
      "text/plain": [
       "((1232, 2), (1232,))"
      ]
     },
     "execution_count": 8,
     "metadata": {},
     "output_type": "execute_result"
    }
   ],
   "source": [
    "X_train.shape, y_train.shape"
   ]
  },
  {
   "cell_type": "code",
   "execution_count": 9,
   "id": "consecutive-teach",
   "metadata": {
    "ExecuteTime": {
     "end_time": "2021-07-26T21:10:39.201585Z",
     "start_time": "2021-07-26T21:10:39.197220Z"
    }
   },
   "outputs": [],
   "source": [
    "# Initialization\n",
    "w = np.zeros(X_train.shape[1])\n",
    "b = 0\n",
    "alpha = 0.01\n",
    "epochs = 10000"
   ]
  },
  {
   "cell_type": "code",
   "execution_count": 10,
   "id": "urban-asian",
   "metadata": {
    "ExecuteTime": {
     "end_time": "2021-07-26T21:11:14.404951Z",
     "start_time": "2021-07-26T21:10:39.204250Z"
    }
   },
   "outputs": [
    {
     "name": "stdout",
     "output_type": "stream",
     "text": [
      "Epoch:  0\n",
      "Cost:  0.6930275710315525\n",
      "Epoch:  1000\n",
      "Cost:  0.6457631221074839\n",
      "Epoch:  2000\n",
      "Cost:  0.6281404693137139\n",
      "Epoch:  3000\n",
      "Cost:  0.6131753383036925\n",
      "Epoch:  4000\n",
      "Cost:  0.5995964808653005\n",
      "Epoch:  5000\n",
      "Cost:  0.5872020510590089\n",
      "Epoch:  6000\n",
      "Cost:  0.5758576155195193\n",
      "Epoch:  7000\n",
      "Cost:  0.5654470454159286\n",
      "Epoch:  8000\n",
      "Cost:  0.5558686290719597\n",
      "Epoch:  9000\n",
      "Cost:  0.5470333294624622\n"
     ]
    }
   ],
   "source": [
    "w, b, cost_history = gradient_descent(X_train, y_train, w, b, alpha, epochs)"
   ]
  },
  {
   "cell_type": "code",
   "execution_count": 11,
   "id": "unlimited-squad",
   "metadata": {
    "ExecuteTime": {
     "end_time": "2021-07-26T21:11:14.546402Z",
     "start_time": "2021-07-26T21:11:14.406946Z"
    }
   },
   "outputs": [
    {
     "data": {
      "text/plain": [
       "[<matplotlib.lines.Line2D at 0x7f517eb3c400>]"
      ]
     },
     "execution_count": 11,
     "metadata": {},
     "output_type": "execute_result"
    },
    {
     "data": {
      "image/png": "[encoded data removed]",
      "text/plain": [
       "<Figure size 432x288 with 1 Axes>"
      ]
     },
     "metadata": {
      "needs_background": "light"
     },
     "output_type": "display_data"
    }
   ],
   "source": [
    "# Plot Cost\n",
    "plt.plot(cost_history)"
   ]
  },
  {
   "cell_type": "code",
   "execution_count": 12,
   "id": "banner-adjustment",
   "metadata": {
    "ExecuteTime": {
     "end_time": "2021-07-26T21:11:14.554841Z",
     "start_time": "2021-07-26T21:11:14.548274Z"
    }
   },
   "outputs": [
    {
     "name": "stdout",
     "output_type": "stream",
     "text": [
      "Logistic Regression Accuracy: 0.724025974025974\n"
     ]
    }
   ],
   "source": [
    "predictions = predict(X_test, w, b)\n",
    "\n",
    "print(\"Logistic Regression Accuracy:\", accuracy(y_test, predictions))"
   ]
  },
  {
   "cell_type": "code",
   "execution_count": null,
   "id": "contemporary-holmes",
   "metadata": {},
   "outputs": [],
   "source": []
  }
 ],
 "metadata": {
  "kernelspec": {
   "display_name": "Python 3",
   "language": "python",
   "name": "python3"
  },
  "language_info": {
   "codemirror_mode": {
    "name": "ipython",
    "version": 3
   },
   "file_extension": ".py",
   "mimetype": "text/x-python",
   "name": "python",
   "nbconvert_exporter": "python",
   "pygments_lexer": "ipython3",
   "version": "3.7.2"
  }
 },
 "nbformat": 4,
 "nbformat_minor": 5
}
