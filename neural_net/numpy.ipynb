{
 "cells": [
  {
   "cell_type": "code",
   "execution_count": 1,
   "id": "narrative-messenger",
   "metadata": {
    "ExecuteTime": {
     "end_time": "2021-07-20T17:34:33.213026Z",
     "start_time": "2021-07-20T17:34:31.397088Z"
    }
   },
   "outputs": [],
   "source": [
    "import numpy as np\n",
    "import matplotlib.pyplot as plt\n",
    "from tensorflow.keras import datasets"
   ]
  },
  {
   "cell_type": "code",
   "execution_count": 2,
   "id": "black-cosmetic",
   "metadata": {
    "ExecuteTime": {
     "end_time": "2021-07-19T18:00:26.355572Z",
     "start_time": "2021-07-19T18:00:26.080385Z"
    }
   },
   "outputs": [],
   "source": [
    "# Load Data\n",
    "(X_train, y_train), (X_test, y_test) = datasets.mnist.load_data()"
   ]
  },
  {
   "cell_type": "code",
   "execution_count": 3,
   "id": "resistant-keeping",
   "metadata": {
    "ExecuteTime": {
     "end_time": "2021-07-19T18:00:26.365778Z",
     "start_time": "2021-07-19T18:00:26.358293Z"
    }
   },
   "outputs": [
    {
     "data": {
      "text/plain": [
       "((60000, 28, 28), (10000, 28, 28), (60000,), (10000,))"
      ]
     },
     "execution_count": 3,
     "metadata": {},
     "output_type": "execute_result"
    }
   ],
   "source": [
    "X_train.shape, X_test.shape, y_train.shape, y_test.shape"
   ]
  },
  {
   "cell_type": "code",
   "execution_count": 4,
   "id": "numerical-stability",
   "metadata": {
    "ExecuteTime": {
     "end_time": "2021-07-19T18:00:26.532426Z",
     "start_time": "2021-07-19T18:00:26.369470Z"
    }
   },
   "outputs": [
    {
     "data": {
      "text/plain": [
       "(<matplotlib.image.AxesImage at 0x7f4d01844f28>, 5)"
      ]
     },
     "execution_count": 4,
     "metadata": {},
     "output_type": "execute_result"
    },
    {
     "data": {
      "image/png": "[encoded data removed]",
      "text/plain": [
       "<Figure size 432x288 with 1 Axes>"
      ]
     },
     "metadata": {
      "needs_background": "light"
     },
     "output_type": "display_data"
    }
   ],
   "source": [
    "plt.imshow(X_train[0]), y_train[0]"
   ]
  },
  {
   "cell_type": "code",
   "execution_count": 5,
   "id": "juvenile-pottery",
   "metadata": {
    "ExecuteTime": {
     "end_time": "2021-07-19T18:00:26.542363Z",
     "start_time": "2021-07-19T18:00:26.535085Z"
    }
   },
   "outputs": [
    {
     "data": {
      "text/plain": [
       "(28, 28)"
      ]
     },
     "execution_count": 5,
     "metadata": {},
     "output_type": "execute_result"
    }
   ],
   "source": [
    "X_train[0].shape"
   ]
  },
  {
   "cell_type": "code",
   "execution_count": 6,
   "id": "stylish-wright",
   "metadata": {
    "ExecuteTime": {
     "end_time": "2021-07-19T18:00:26.561148Z",
     "start_time": "2021-07-19T18:00:26.544993Z"
    }
   },
   "outputs": [
    {
     "data": {
      "text/plain": [
       "array([5, 0, 4, ..., 5, 6, 8], dtype=uint8)"
      ]
     },
     "execution_count": 6,
     "metadata": {},
     "output_type": "execute_result"
    }
   ],
   "source": [
    "y_train"
   ]
  },
  {
   "cell_type": "code",
   "execution_count": 7,
   "id": "sharing-cleaners",
   "metadata": {
    "ExecuteTime": {
     "end_time": "2021-07-19T18:00:26.573541Z",
     "start_time": "2021-07-19T18:00:26.564101Z"
    }
   },
   "outputs": [],
   "source": [
    "X_train = X_train.reshape(X_train.shape[0], X_train.shape[1]*X_train.shape[2])\n",
    "X_test = X_test.reshape(X_test.shape[0], X_test.shape[1]*X_test.shape[2])"
   ]
  },
  {
   "cell_type": "code",
   "execution_count": 8,
   "id": "rough-swiss",
   "metadata": {
    "ExecuteTime": {
     "end_time": "2021-07-19T18:00:26.589868Z",
     "start_time": "2021-07-19T18:00:26.582113Z"
    }
   },
   "outputs": [],
   "source": [
    "X_train = X_train.T\n",
    "X_test = X_test.T"
   ]
  },
  {
   "cell_type": "code",
   "execution_count": 9,
   "id": "spare-village",
   "metadata": {
    "ExecuteTime": {
     "end_time": "2021-07-19T18:00:26.602200Z",
     "start_time": "2021-07-19T18:00:26.594126Z"
    }
   },
   "outputs": [
    {
     "data": {
      "text/plain": [
       "(784,)"
      ]
     },
     "execution_count": 9,
     "metadata": {},
     "output_type": "execute_result"
    }
   ],
   "source": [
    "X_train[:, 0].shape"
   ]
  },
  {
   "cell_type": "code",
   "execution_count": 10,
   "id": "liable-yugoslavia",
   "metadata": {
    "ExecuteTime": {
     "end_time": "2021-07-19T18:00:26.615836Z",
     "start_time": "2021-07-19T18:00:26.608134Z"
    }
   },
   "outputs": [
    {
     "data": {
      "text/plain": [
       "(60000,)"
      ]
     },
     "execution_count": 10,
     "metadata": {},
     "output_type": "execute_result"
    }
   ],
   "source": [
    "y_train.shape"
   ]
  },
  {
   "cell_type": "code",
   "execution_count": 11,
   "id": "applicable-relationship",
   "metadata": {
    "ExecuteTime": {
     "end_time": "2021-07-19T18:00:26.920520Z",
     "start_time": "2021-07-19T18:00:26.620493Z"
    }
   },
   "outputs": [],
   "source": [
    "X_train = (X_train/255.0).astype('float32')\n",
    "X_test = (X_test/255.0).astype('float32')"
   ]
  },
  {
   "cell_type": "code",
   "execution_count": 12,
   "id": "specific-shark",
   "metadata": {
    "ExecuteTime": {
     "end_time": "2021-07-19T18:00:26.951522Z",
     "start_time": "2021-07-19T18:00:26.924601Z"
    }
   },
   "outputs": [],
   "source": [
    "# Initialize Params\n",
    "def initialize_params():\n",
    "    \n",
    "    W1 = np.random.rand(128, 784) - 0.5\n",
    "    b1 = np.random.rand(128, 1) - 0.5\n",
    "    \n",
    "    W2 = np.random.rand(64, 128) - 0.5\n",
    "    b2 = np.random.rand(64, 1) - 0.5\n",
    "    \n",
    "    W3 = np.random.rand(32, 64) - 0.5\n",
    "    b3 = np.random.rand(32, 1) - 0.5\n",
    "    \n",
    "    W4 = np.random.rand(10, 32) - 0.5\n",
    "    b4 = np.random.rand(10, 1)  - 0.5 \n",
    "    \n",
    "    return W1, b1, W2, b2, W3, b3, W4, b4\n",
    "\n",
    "# Activation function\n",
    "def ReLU(Z):\n",
    "    return np.maximum(0, Z)\n",
    "\n",
    "# Softmax\n",
    "def softmax(Z):\n",
    "    return np.exp(Z) / sum(np.exp(Z))\n",
    "\n",
    "# One Hot Encoding\n",
    "def one_hot(Y):\n",
    "    one_hot_Y = np.zeros((Y.size, Y.max() + 1))\n",
    "    one_hot_Y[np.arange(Y.size), Y] = 1\n",
    "    one_hot_Y = one_hot_Y.T\n",
    "    return one_hot_Y\n",
    "\n",
    "\n",
    "# Forward Propagation\n",
    "def forward_prop(W1, b1, W2, b2, W3, b3, W4, b4, X):\n",
    "    \n",
    "    Z1 = W1.dot(X) + b1\n",
    "    A1 = ReLU(Z1)\n",
    "    \n",
    "    Z2 = W2.dot(A1) + b2\n",
    "    A2 = ReLU(Z2)\n",
    "    \n",
    "    Z3 = W3.dot(A2) + b3\n",
    "    A3 = ReLU(Z3)\n",
    "    \n",
    "    Z4 = W4.dot(A3) + b4\n",
    "    A4 = softmax(Z4)\n",
    " \n",
    "    return Z1, A1, Z2, A2, Z3, A3, Z4, A4\n",
    "\n",
    "# Derivative\n",
    "def deriv_ReLU(Z):\n",
    "    return Z > 0\n",
    "\n",
    "\n",
    "# Back Propagation\n",
    "def back_prop(Z1, A1, Z2, A2, Z3, A3, Z4, A4, W1, W2, W3, W4, X, Y):\n",
    "      \n",
    "    m = Y.shape[0]\n",
    "    \n",
    "    one_hot_Y = one_hot(Y)\n",
    "      \n",
    "    dZ4 = A4 - one_hot_Y\n",
    "    dW4 = 1/m * dZ4.dot(A3.T)\n",
    "    db4 = 1/m * np.sum(dZ4)\n",
    "    \n",
    "    dZ3 = W4.T.dot(dZ4) * deriv_ReLU(Z3)\n",
    "    dW3 = 1/m * dZ3.dot(A2.T)\n",
    "    db3= 1/m * np.sum(dZ3)\n",
    "\n",
    "    \n",
    "    dZ2 = W3.T.dot(dZ3) * deriv_ReLU(Z2)\n",
    "    dW2 = 1/m * dZ2.dot(A1.T)\n",
    "    db2 = 1/m * np.sum(dZ2)\n",
    "    \n",
    "    \n",
    "    dZ1 = W2.T.dot(dZ2) * deriv_ReLU(Z1)\n",
    "    dW1 = 1/m * dZ1.dot(X.T)\n",
    "    db1 = 1/m * np.sum(dZ1)\n",
    "    \n",
    "    return dW4, db4, dW3, db3, dW2, db2, dW1, db1\n",
    "\n",
    "# Update parameters\n",
    "def update_params(dW4, db4, dW3, db3, dW2, db2, dW1, db1, W1, b1, W2, b2, W3, b3, W4, b4, alpha):\n",
    "    \n",
    "    W1 = W1 - alpha * dW1\n",
    "    b1 = b1 - alpha * db1\n",
    "    \n",
    "    W2 = W2 - alpha * dW2\n",
    "    b2 = b2 - alpha * db2\n",
    "    \n",
    "    W3 = W3 - alpha * dW3\n",
    "    b3 = b3 - alpha * db3\n",
    "    \n",
    "    W4 = W4 - alpha * dW4\n",
    "    b4 = b4 - alpha * db4\n",
    "    \n",
    "    return W1, b1, W2, b2, W3, b3, W4, b4"
   ]
  },
  {
   "cell_type": "code",
   "execution_count": 13,
   "id": "neither-plastic",
   "metadata": {
    "ExecuteTime": {
     "end_time": "2021-07-19T18:00:26.971821Z",
     "start_time": "2021-07-19T18:00:26.955110Z"
    }
   },
   "outputs": [],
   "source": [
    "def get_predictions(A4):\n",
    "    return np.argmax(A4, 0)\n",
    "\n",
    "def get_accuracy(predictions, Y):\n",
    "    \n",
    "    return np.sum(predictions == Y) / Y.size\n",
    "\n",
    "def gradient_descent(X, Y, epochs, alpha):\n",
    "    \n",
    "    W1, b1, W2, b2, W3, b3, W4, b4 = initialize_params()\n",
    "    \n",
    "    for epoch in range(epochs):\n",
    "        Z1, A1, Z2, A2, Z3, A3, Z4, A4 = forward_prop(W1, b1, W2, b2, W3, b3, W4, b4, X)\n",
    "        dW4, db4, dW3, db3, dW2, db2, dW1, db1 = back_prop(Z1, A1, Z2, A2, Z3, A3, Z4, A4, W1, W2, W3, W4, X, Y)\n",
    "        W1, b1, W2, b2, W3, b3, W4, b4 = update_params(dW4, db4, dW3, db3, dW2, db2, dW1, db1, W1, b1, W2, b2, W3, b3, W4, b4, alpha)\n",
    "        \n",
    "        if (epoch % 10 == 0):\n",
    "            print(\"Epoch: \", epoch)\n",
    "            print(\"Accuracy: \", get_accuracy(get_predictions(A4), Y))\n",
    "            \n",
    "    return W4, b4, W3, b3, W2, b2, W1, b1"
   ]
  },
  {
   "cell_type": "code",
   "execution_count": 14,
   "id": "undefined-rebel",
   "metadata": {
    "ExecuteTime": {
     "end_time": "2021-07-19T18:08:08.778299Z",
     "start_time": "2021-07-19T18:00:26.974682Z"
    }
   },
   "outputs": [
    {
     "name": "stdout",
     "output_type": "stream",
     "text": [
      "Epoch:  0\n",
      "Accuracy:  0.11663333333333334\n",
      "Epoch:  10\n",
      "Accuracy:  0.3365\n",
      "Epoch:  20\n",
      "Accuracy:  0.4844833333333333\n",
      "Epoch:  30\n",
      "Accuracy:  0.5764833333333333\n",
      "Epoch:  40\n",
      "Accuracy:  0.6428\n",
      "Epoch:  50\n",
      "Accuracy:  0.6861\n",
      "Epoch:  60\n",
      "Accuracy:  0.7171833333333333\n",
      "Epoch:  70\n",
      "Accuracy:  0.74125\n",
      "Epoch:  80\n",
      "Accuracy:  0.7612333333333333\n",
      "Epoch:  90\n",
      "Accuracy:  0.777\n",
      "Epoch:  100\n",
      "Accuracy:  0.7904333333333333\n",
      "Epoch:  110\n",
      "Accuracy:  0.8007166666666666\n",
      "Epoch:  120\n",
      "Accuracy:  0.8106166666666667\n",
      "Epoch:  130\n",
      "Accuracy:  0.8187\n",
      "Epoch:  140\n",
      "Accuracy:  0.8260333333333333\n",
      "Epoch:  150\n",
      "Accuracy:  0.8321333333333333\n",
      "Epoch:  160\n",
      "Accuracy:  0.8366666666666667\n",
      "Epoch:  170\n",
      "Accuracy:  0.8172166666666667\n",
      "Epoch:  180\n",
      "Accuracy:  0.8421833333333333\n",
      "Epoch:  190\n",
      "Accuracy:  0.8506333333333334\n",
      "Epoch:  200\n",
      "Accuracy:  0.8540833333333333\n",
      "Epoch:  210\n",
      "Accuracy:  0.8577833333333333\n",
      "Epoch:  220\n",
      "Accuracy:  0.8605\n",
      "Epoch:  230\n",
      "Accuracy:  0.8637833333333333\n",
      "Epoch:  240\n",
      "Accuracy:  0.86615\n",
      "Epoch:  250\n",
      "Accuracy:  0.8685666666666667\n",
      "Epoch:  260\n",
      "Accuracy:  0.8707333333333334\n",
      "Epoch:  270\n",
      "Accuracy:  0.8727666666666667\n",
      "Epoch:  280\n",
      "Accuracy:  0.8741666666666666\n",
      "Epoch:  290\n",
      "Accuracy:  0.8704166666666666\n",
      "Epoch:  300\n",
      "Accuracy:  0.8672166666666666\n",
      "Epoch:  310\n",
      "Accuracy:  0.8798333333333334\n",
      "Epoch:  320\n",
      "Accuracy:  0.8827833333333334\n",
      "Epoch:  330\n",
      "Accuracy:  0.88465\n",
      "Epoch:  340\n",
      "Accuracy:  0.8863833333333333\n",
      "Epoch:  350\n",
      "Accuracy:  0.8877666666666667\n",
      "Epoch:  360\n",
      "Accuracy:  0.8890333333333333\n",
      "Epoch:  370\n",
      "Accuracy:  0.8905\n",
      "Epoch:  380\n",
      "Accuracy:  0.8919333333333334\n",
      "Epoch:  390\n",
      "Accuracy:  0.8931166666666667\n",
      "Epoch:  400\n",
      "Accuracy:  0.8941166666666667\n",
      "Epoch:  410\n",
      "Accuracy:  0.8953833333333333\n",
      "Epoch:  420\n",
      "Accuracy:  0.8964333333333333\n",
      "Epoch:  430\n",
      "Accuracy:  0.8973666666666666\n",
      "Epoch:  440\n",
      "Accuracy:  0.8981\n",
      "Epoch:  450\n",
      "Accuracy:  0.89755\n",
      "Epoch:  460\n",
      "Accuracy:  0.8931833333333333\n",
      "Epoch:  470\n",
      "Accuracy:  0.8947\n",
      "Epoch:  480\n",
      "Accuracy:  0.9020166666666667\n",
      "Epoch:  490\n",
      "Accuracy:  0.9038333333333334\n"
     ]
    }
   ],
   "source": [
    "W4, b4, W3, b3, W2, b2, W1, b1 = gradient_descent(X_train, y_train, 500, 0.1)"
   ]
  },
  {
   "cell_type": "code",
   "execution_count": 15,
   "id": "seven-columbus",
   "metadata": {
    "ExecuteTime": {
     "end_time": "2021-07-19T18:08:08.811832Z",
     "start_time": "2021-07-19T18:08:08.791628Z"
    }
   },
   "outputs": [],
   "source": [
    "def make_predictions(X, W1, b1, W2, b2, W3, b3, W4, b4):\n",
    "    \n",
    "    Z1, A1, Z2, A2, Z3, A3, Z4, A4 = forward_prop(W1, b1, W2, b2, W3, b3, W4, b4, X)\n",
    "    predictions = get_predictions(A4)\n",
    "    \n",
    "    return predictions\n",
    "\n",
    "def test_predictions(index, W1, b1, W2, b2, W3, b3, W4, b4):\n",
    "    current_image = X_train[:, index, None]\n",
    "    prediction = make_predictions(X_train[:, index, None], W1, b1, W2, b2, W3, b3, W4, b4)\n",
    "    label = y_train[index]\n",
    "    print(\"Prediction: \", prediction)\n",
    "    print(\"Label: \", label)\n",
    "    \n",
    "    current_image = current_image.reshape((28, 28))\n",
    "    plt.gray()\n",
    "    plt.imshow(current_image)\n",
    "    plt.show"
   ]
  },
  {
   "cell_type": "code",
   "execution_count": 17,
   "id": "polar-estonia",
   "metadata": {
    "ExecuteTime": {
     "end_time": "2021-07-19T18:08:18.672646Z",
     "start_time": "2021-07-19T18:08:18.490160Z"
    }
   },
   "outputs": [
    {
     "name": "stdout",
     "output_type": "stream",
     "text": [
      "Prediction:  [1]\n",
      "Label:  1\n"
     ]
    },
    {
     "data": {
      "image/png": "[encoded data removed]",
      "text/plain": [
       "<Figure size 432x288 with 1 Axes>"
      ]
     },
     "metadata": {
      "needs_background": "light"
     },
     "output_type": "display_data"
    }
   ],
   "source": [
    "test_predictions(200, W1, b1, W2, b2, W3, b3, W4, b4)"
   ]
  },
  {
   "cell_type": "code",
   "execution_count": null,
   "id": "prescribed-sherman",
   "metadata": {},
   "outputs": [],
   "source": []
  }
 ],
 "metadata": {
  "kernelspec": {
   "display_name": "Python 3",
   "language": "python",
   "name": "python3"
  },
  "language_info": {
   "codemirror_mode": {
    "name": "ipython",
    "version": 3
   },
   "file_extension": ".py",
   "mimetype": "text/x-python",
   "name": "python",
   "nbconvert_exporter": "python",
   "pygments_lexer": "ipython3",
   "version": "3.7.2"
  }
 },
 "nbformat": 4,
 "nbformat_minor": 5
}
