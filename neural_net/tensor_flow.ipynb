{
 "cells": [
  {
   "cell_type": "code",
   "execution_count": 1,
   "id": "unlimited-aluminum",
   "metadata": {
    "ExecuteTime": {
     "end_time": "2021-07-18T21:17:03.806260Z",
     "start_time": "2021-07-18T21:16:57.623248Z"
    }
   },
   "outputs": [],
   "source": [
    "import numpy as np\n",
    "import matplotlib.pyplot as plt\n",
    "from tensorflow.keras import datasets\n",
    "import matplotlib.pyplot as plt"
   ]
  },
  {
   "cell_type": "code",
   "execution_count": 2,
   "id": "constitutional-percentage",
   "metadata": {
    "ExecuteTime": {
     "end_time": "2021-07-18T21:17:04.773075Z",
     "start_time": "2021-07-18T21:17:03.825010Z"
    }
   },
   "outputs": [],
   "source": [
    "# Load Data\n",
    "(X_train, y_train), (X_test, y_test) = datasets.mnist.load_data()"
   ]
  },
  {
   "cell_type": "code",
   "execution_count": 3,
   "id": "divine-reverse",
   "metadata": {
    "ExecuteTime": {
     "end_time": "2021-07-18T21:17:04.798584Z",
     "start_time": "2021-07-18T21:17:04.779298Z"
    }
   },
   "outputs": [
    {
     "data": {
      "text/plain": [
       "((60000, 28, 28), (10000, 28, 28), (60000,), (10000,))"
      ]
     },
     "execution_count": 3,
     "metadata": {},
     "output_type": "execute_result"
    }
   ],
   "source": [
    "X_train.shape, X_test.shape, y_train.shape, y_test.shape"
   ]
  },
  {
   "cell_type": "code",
   "execution_count": 4,
   "id": "boolean-prize",
   "metadata": {
    "ExecuteTime": {
     "end_time": "2021-07-18T21:17:04.856544Z",
     "start_time": "2021-07-18T21:17:04.802756Z"
    }
   },
   "outputs": [
    {
     "data": {
      "text/plain": [
       "(28, 28)"
      ]
     },
     "execution_count": 4,
     "metadata": {},
     "output_type": "execute_result"
    }
   ],
   "source": [
    "X_train[0].shape"
   ]
  },
  {
   "cell_type": "code",
   "execution_count": 5,
   "id": "asian-registration",
   "metadata": {
    "ExecuteTime": {
     "end_time": "2021-07-18T21:17:04.916932Z",
     "start_time": "2021-07-18T21:17:04.859663Z"
    }
   },
   "outputs": [
    {
     "data": {
      "text/plain": [
       "(dtype('uint8'), dtype('uint8'), dtype('uint8'), dtype('uint8'))"
      ]
     },
     "execution_count": 5,
     "metadata": {},
     "output_type": "execute_result"
    }
   ],
   "source": [
    "X_train.dtype, X_test.dtype, y_train.dtype, y_test.dtype"
   ]
  },
  {
   "cell_type": "code",
   "execution_count": 6,
   "id": "unlike-squad",
   "metadata": {
    "ExecuteTime": {
     "end_time": "2021-07-18T21:17:05.595668Z",
     "start_time": "2021-07-18T21:17:04.926155Z"
    }
   },
   "outputs": [
    {
     "data": {
      "text/plain": [
       "(<matplotlib.image.AxesImage at 0x7fdad7d06630>, 5)"
      ]
     },
     "execution_count": 6,
     "metadata": {},
     "output_type": "execute_result"
    },
    {
     "data": {
      "image/png": "[encoded data removed]",
      "text/plain": [
       "<Figure size 432x288 with 1 Axes>"
      ]
     },
     "metadata": {
      "needs_background": "light"
     },
     "output_type": "display_data"
    }
   ],
   "source": [
    "plt.imshow(X_train[0]), y_train[0]"
   ]
  },
  {
   "cell_type": "code",
   "execution_count": 7,
   "id": "hourly-drink",
   "metadata": {
    "ExecuteTime": {
     "end_time": "2021-07-18T21:17:05.628801Z",
     "start_time": "2021-07-18T21:17:05.608244Z"
    }
   },
   "outputs": [
    {
     "data": {
      "text/plain": [
       "array([5, 0, 4, ..., 5, 6, 8], dtype=uint8)"
      ]
     },
     "execution_count": 7,
     "metadata": {},
     "output_type": "execute_result"
    }
   ],
   "source": [
    "y_train"
   ]
  },
  {
   "cell_type": "markdown",
   "id": "saving-binary",
   "metadata": {},
   "source": [
    "### Tensor Flow"
   ]
  },
  {
   "cell_type": "code",
   "execution_count": 9,
   "id": "suburban-puppy",
   "metadata": {
    "ExecuteTime": {
     "end_time": "2021-07-18T21:22:23.798575Z",
     "start_time": "2021-07-18T21:17:05.696812Z"
    }
   },
   "outputs": [
    {
     "name": "stdout",
     "output_type": "stream",
     "text": [
      "Epoch 1/3\n",
      "1500/1500 [==============================] - 108s 69ms/step - loss: 1.2441 - accuracy: 0.5564 - val_loss: 0.2385 - val_accuracy: 0.9308\n",
      "Epoch 2/3\n",
      "1500/1500 [==============================] - 94s 63ms/step - loss: 0.2558 - accuracy: 0.9315 - val_loss: 0.1160 - val_accuracy: 0.9695\n",
      "Epoch 3/3\n",
      "1500/1500 [==============================] - 105s 70ms/step - loss: 0.1433 - accuracy: 0.9613 - val_loss: 0.1041 - val_accuracy: 0.9744\n",
      "313/313 [==============================] - 9s 26ms/step - loss: 0.0948 - accuracy: 0.9742\n"
     ]
    },
    {
     "data": {
      "text/plain": [
       "[0.09476304054260254, 0.9742000102996826]"
      ]
     },
     "execution_count": 9,
     "metadata": {},
     "output_type": "execute_result"
    }
   ],
   "source": [
    "from tensorflow.keras.backend import expand_dims\n",
    "from tensorflow.keras.utils import to_categorical\n",
    "from tensorflow.keras.models import Sequential\n",
    "from tensorflow.keras.layers import Dense, LSTM, Dropout, Conv2D, MaxPool2D, Flatten\n",
    "from tensorflow.keras.optimizers import Adam\n",
    "from tensorflow.keras.callbacks import EarlyStopping\n",
    "\n",
    "X_train = (X_train/255.0).astype('float32')\n",
    "X_test = (X_test/255.0).astype('float32')\n",
    "\n",
    "y_train_cat = to_categorical(y_train)\n",
    "y_test_cat = to_categorical(y_test)\n",
    "\n",
    "\n",
    "def initialize_model():\n",
    "    \n",
    "    model = Sequential()\n",
    "    model.add(LSTM(128, input_shape=X_train.shape[1:], activation = 'relu', return_sequences=True))\n",
    "    model.add(Dropout(0.2))\n",
    "\n",
    "    model.add(LSTM(64, activation = 'relu'))\n",
    "    model.add(Dropout(0.2))\n",
    "\n",
    "    model.add(Dense(32, activation = 'relu'))\n",
    "    model.add(Dropout(0.2))\n",
    "\n",
    "    model.add(Dense(10, activation = 'softmax'))\n",
    "\n",
    "    model.compile(optimizer = 'adam',\n",
    "              loss = 'categorical_crossentropy',\n",
    "              metrics = ['accuracy'])\n",
    "\n",
    "    return model\n",
    "\n",
    "model = initialize_model()\n",
    "\n",
    "history = model.fit(X_train, y_train_cat, epochs=3, batch_size=32, validation_split=0.2)\n",
    "\n",
    "model.evaluate(X_test, y_test_cat)"
   ]
  },
  {
   "cell_type": "code",
   "execution_count": 10,
   "id": "alike-stocks",
   "metadata": {
    "ExecuteTime": {
     "end_time": "2021-07-18T21:22:24.839356Z",
     "start_time": "2021-07-18T21:22:23.816768Z"
    }
   },
   "outputs": [
    {
     "data": {
      "image/png": "[encoded data removed]",
      "text/plain": [
       "<Figure size 432x288 with 1 Axes>"
      ]
     },
     "metadata": {
      "needs_background": "light"
     },
     "output_type": "display_data"
    },
    {
     "data": {
      "image/png": "[encoded data removed]",
      "text/plain": [
       "<Figure size 432x288 with 1 Axes>"
      ]
     },
     "metadata": {
      "needs_background": "light"
     },
     "output_type": "display_data"
    }
   ],
   "source": [
    "def plot_loss_accuracy(history):\n",
    "    plt.plot(history.history['loss'])\n",
    "    plt.plot(history.history['val_loss'])\n",
    "    plt.title('Model loss')\n",
    "    plt.ylabel('Loss')\n",
    "    plt.xlabel('Epoch')\n",
    "    plt.legend(['Train', 'Test'], loc='best')\n",
    "    plt.show()\n",
    "    plt.plot(history.history['accuracy'])\n",
    "    plt.plot(history.history['val_accuracy'])\n",
    "    plt.title('Model Accuracy')\n",
    "    plt.ylabel('Accuracy')\n",
    "    plt.xlabel('Epoch')\n",
    "    plt.legend(['Train', 'Test'], loc='best')\n",
    "    plt.show()\n",
    "    \n",
    "plot_loss_accuracy(history)"
   ]
  },
  {
   "cell_type": "code",
   "execution_count": 11,
   "id": "advanced-patient",
   "metadata": {
    "ExecuteTime": {
     "end_time": "2021-07-18T21:23:53.512492Z",
     "start_time": "2021-07-18T21:22:24.859492Z"
    }
   },
   "outputs": [
    {
     "name": "stdout",
     "output_type": "stream",
     "text": [
      "Epoch 1/3\n",
      "3000/3000 [==============================] - 29s 9ms/step - loss: 0.7066 - accuracy: 0.7608 - val_loss: 0.1532 - val_accuracy: 0.9553\n",
      "Epoch 2/3\n",
      "3000/3000 [==============================] - 29s 10ms/step - loss: 0.1334 - accuracy: 0.9603 - val_loss: 0.1042 - val_accuracy: 0.9678\n",
      "Epoch 3/3\n",
      "3000/3000 [==============================] - 28s 9ms/step - loss: 0.0906 - accuracy: 0.9724 - val_loss: 0.0891 - val_accuracy: 0.9741\n",
      "313/313 [==============================] - 2s 7ms/step - loss: 0.0828 - accuracy: 0.9721\n"
     ]
    },
    {
     "data": {
      "text/plain": [
       "[0.08282876014709473, 0.972100019454956]"
      ]
     },
     "execution_count": 11,
     "metadata": {},
     "output_type": "execute_result"
    }
   ],
   "source": [
    "X_train_dim = expand_dims(X_train)\n",
    "X_test_dim = expand_dims(X_test)\n",
    "\n",
    "def initialize_model_1():\n",
    "    \n",
    "    model = Sequential()\n",
    "    model.add(Conv2D(8, (4,4), input_shape= X_train_dim.shape[1:], activation = 'relu'))\n",
    "    model.add(MaxPool2D(pool_size=(2,2)))\n",
    "\n",
    "    model.add(Flatten())\n",
    "\n",
    "    model.add(Dense(10, activation='relu'))\n",
    "\n",
    "    model.add(Dense(10, activation='softmax'))\n",
    "\n",
    "    model.compile(optimizer = 'adam',\n",
    "                 loss = 'categorical_crossentropy',\n",
    "                 metrics = ['accuracy'])\n",
    "    \n",
    "    return model\n",
    "\n",
    "model_1 = initialize_model_1()\n",
    "\n",
    "history_1 = model_1.fit(X_train_dim, y_train_cat, epochs=3, batch_size=16, validation_split=0.2)\n",
    "\n",
    "model_1.evaluate(X_test_dim, y_test_cat)"
   ]
  },
  {
   "cell_type": "code",
   "execution_count": 12,
   "id": "threatened-variation",
   "metadata": {
    "ExecuteTime": {
     "end_time": "2021-07-18T21:23:54.395336Z",
     "start_time": "2021-07-18T21:23:53.515166Z"
    }
   },
   "outputs": [
    {
     "data": {
      "image/png": "[encoded data removed]",
      "text/plain": [
       "<Figure size 432x288 with 1 Axes>"
      ]
     },
     "metadata": {
      "needs_background": "light"
     },
     "output_type": "display_data"
    },
    {
     "data": {
      "image/png": "[encoded data removed]",
      "text/plain": [
       "<Figure size 432x288 with 1 Axes>"
      ]
     },
     "metadata": {
      "needs_background": "light"
     },
     "output_type": "display_data"
    }
   ],
   "source": [
    "plot_loss_accuracy(history_1)"
   ]
  }
 ],
 "metadata": {
  "kernelspec": {
   "display_name": "Python 3",
   "language": "python",
   "name": "python3"
  },
  "language_info": {
   "codemirror_mode": {
    "name": "ipython",
    "version": 3
   },
   "file_extension": ".py",
   "mimetype": "text/x-python",
   "name": "python",
   "nbconvert_exporter": "python",
   "pygments_lexer": "ipython3",
   "version": "3.7.2"
  }
 },
 "nbformat": 4,
 "nbformat_minor": 5
}
